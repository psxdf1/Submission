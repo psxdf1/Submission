{
 "cells": [
  {
   "cell_type": "markdown",
   "metadata": {},
   "source": [
    "Description:   \n",
    "This script should load the iJO1366 and iHK1487 models from the BiGG\n",
    "database, make modifications so that they reperesent the strains used in\n",
    "the Liu et al study and then output them to the 'stable' directory\n",
    "with the names 'AG.xml' and 'GD.xml' respectively.\n",
    "\n",
    "Directionality of exchange reactions: https://groups.google.com/g/cobra-toolbox/c/JE7LMkkqlT0/m/uz2oCaQEEwAJ\n",
    "\n",
    "##### Agenda:\n",
    "- Load existing 'parent' models from BiGG\n",
    "- Construct 'unmodified' strain representations as used in the paper, by editing models to spec.\n",
    "- Optimise each with default medium conditions & generate summary to establish baseline.\n",
    "    - Just use the provided representation of minimal media \n",
    "- Make strain modifications per paper (Liu) and simulate in default medium.\n",
    "    - We are not expecting viability at this stage as they have been made auxotrophic for either tyrosine or phenylalanine.\n",
    "- Adjust media to facilitate their respective auxotrophies and obtain optimization summaries.\n"
   ]
  },
  {
   "cell_type": "code",
   "execution_count": 1,
   "metadata": {},
   "outputs": [],
   "source": [
    "import cobra\n",
    "from cobra.io import load_json_model, save_json_model, load_matlab_model, save_matlab_model, read_sbml_model, write_sbml_model\n",
    "from cobra import Model, Reaction, Metabolite\n",
    "from cameo import models\n",
    "from cameo import load_model"
   ]
  },
  {
   "cell_type": "markdown",
   "metadata": {},
   "source": [
    "# Start: AG Strain Reconstruction"
   ]
  },
  {
   "cell_type": "code",
   "execution_count": 2,
   "metadata": {},
   "outputs": [
    {
     "name": "stdout",
     "output_type": "stream",
     "text": [
      "Set parameter Username\n",
      "Academic license - for non-commercial use only - expires 2023-08-10\n"
     ]
    }
   ],
   "source": [
    "# Load base model for AG strain and save locally \n",
    "# m = load_model('iJO1366')\n",
    "# cobra.io.write_sbml_model(m,\"../Stable/iJO1366.xml\")\n",
    "# m = load_model(\"../Stable/iJO1366.xml\")\n",
    "m = load_model(\"../../data/iJO1366.xml\")"
   ]
  },
  {
   "cell_type": "markdown",
   "metadata": {},
   "source": [
    "## iJ0166 -> BW25113\n",
    "Reconstructing the starting strain used in the Liu et al paper"
   ]
  },
  {
   "cell_type": "code",
   "execution_count": 3,
   "metadata": {},
   "outputs": [
    {
     "name": "stdout",
     "output_type": "stream",
     "text": [
      "ARAI (-1000.0, 1000.0)\n",
      "LACZ (0.0, 1000.0)\n",
      "LYXI (0.0, 1000.0)\n",
      "RBK_L1 (0.0, 1000.0)\n",
      "XYLK (0.0, 1000.0)\n",
      "XYLK2 (0.0, 1000.0)\n",
      "RMI (-1000.0, 1000.0)\n",
      "RMK (0.0, 1000.0)\n"
     ]
    }
   ],
   "source": [
    "# Gene Knockout targets:\n",
    "# araBAD, rhaBAD, and lacZ\n",
    "# Gene Id's:\n",
    "# araA b0062\n",
    "# araB b0063\n",
    "# araD   -\n",
    "# rhaA b3903\n",
    "# rhaB b3904\n",
    "# rhaD b3902\n",
    "# lacZ b0344\n",
    "\n",
    "# Target Genes \n",
    "t = [\n",
    "    \"araA\", \"araB\", \"araD\"\n",
    "    \"rhaD\",\"rhaA\",\"rhaB\",\n",
    "    \"lacZ\"\n",
    "    ]\n",
    "\n",
    "# Identify affected reactions:\n",
    "# for g in m.genes:\n",
    "#     if g.name in t:\n",
    "#         for r in g.reactions:\n",
    "#             print(r.id)\n",
    "\n",
    "# Resultant list: \n",
    "t_r = [\"ARAI\",\"RMI\",\"LYXI\",\"RBK_L1\",\"XYLK\",\"XYLK2\",\"RMK\",\"LACZ\"]\n",
    "\n",
    "for r in m.reactions:\n",
    "    if r.id in t_r:\n",
    "        print(r.id, r.bounds)\n"
   ]
  },
  {
   "cell_type": "code",
   "execution_count": 4,
   "metadata": {},
   "outputs": [
    {
     "name": "stdout",
     "output_type": "stream",
     "text": [
      "ARAI (0, 0)\n",
      "LACZ (0, 0)\n",
      "LYXI (0, 0)\n",
      "RBK_L1 (0, 0)\n",
      "XYLK (0.0, 1000.0)\n",
      "XYLK2 (0.0, 1000.0)\n",
      "RMI (0, 0)\n",
      "RMK (0, 0)\n"
     ]
    }
   ],
   "source": [
    "## Apply first set of knockouts\n",
    "tgts = [g for g in m.genes if g.name in t]\n",
    "\n",
    "for g in tgts:\n",
    "    g.knock_out()\n",
    "\n",
    "# See if KO has had an effect:\n",
    "for r in m.reactions:\n",
    "    if r.id in t_r:\n",
    "        print(r.id, r.bounds)"
   ]
  },
  {
   "cell_type": "code",
   "execution_count": 5,
   "metadata": {},
   "outputs": [
    {
     "data": {
      "text/plain": [
       "0.9823718127269814"
      ]
     },
     "execution_count": 5,
     "metadata": {},
     "output_type": "execute_result"
    }
   ],
   "source": [
    "m.slim_optimize()\n"
   ]
  },
  {
   "cell_type": "markdown",
   "metadata": {},
   "source": [
    "##  BW25113 -> AG\n",
    "\n",
    "Subsequent modifications made in Liu et al to create the phenylalanine  \n",
    "auxotrophic AG strain.  \n",
    "List of modification made:  \n",
    "1. Insertion\tsynkdc4 \tdecarboxylase reaction\t\t4HPP -> 4HPAA  \n",
    "2. Deletion\tΔptsG\tXylose preference\t\tGlu[e] -> Glu[AG_c]  \n",
    "3. Deletion\tΔpykA\t\t\tPEP -> PYR  \n",
    "4. Deletion\tΔpykF\t\t\tPEP -> PYR  \n",
    "5. Deletion\tΔtyrR \t\t\tE4P -> CHA  \n",
    "6. Deletion\tΔpheA\t\t\tCHA -> PHE  \n",
    "7. Overexpression\taroGfbr-tyrAfbr-aroE\t\t\t(Uncertain how to implement)  \n",
    "8. Deletion\tΔfeaB\tPreventing improves tyrosol yield directly.\t\t4HPAA -> 4HPA  \n",
    "9. Deletion\tΔmanZ\tPrevents glucose uptake\t\t  \n",
    "\n",
    "Additonally this requires the implementation of:  \n",
    "- ADH alcohol dehydrogenase reaction: HPAA -> 4-tyrosol  \n",
    "    - 4 tyrosol is a new metabolite   \n",
    "- Tryosol export reaction  \n",
    "    - TODO: How is this manufactured in situ?   \n",
    "- Phenylalanine uptake reaction  "
   ]
  },
  {
   "cell_type": "markdown",
   "metadata": {},
   "source": [
    "#### synkdc Insertion\n",
    "\n",
    "Context:  \n",
    "4HPP is identified as an intermediate in the synthetic pathway for tyrosol.  \n",
    "“Thus tyrosol biosynthetic pathway would be assembled in E. coli from tyrosine via 4HPP,  \n",
    "which generates 4-hydroxylphenylacetaldehyde (4HPAA) by decarboxylation,   \n",
    "and further turns into 4-hydroxyphenylethanol, i.e., tyrosol, by reduction reaction.” (Liu et al., 2018, p. 245)  \n",
    "2-keto acid decarboxylase (KDC) Aro10 gene from S.cervisae was identified to catalyse this reaction,  \n",
    "so the researchers searched BLAST to find homologous sequences.  \n",
    "They identified two more to add to aro10 and synthesized all three, finding that synkdc4 was most efficacious -fig .\n",
    "synkdc4 is a codon-optimised version of the kdc4 from Pichia pastoris GS115 (model: ihGlycopastoris_COBRA?) TODO check kdc4 reactions \n",
    "\n",
    "Given reaction:  \n",
    "4HPP -> 4HPAA\n",
    "4-hydroxyphenylpyruvate; 4-hydroxyphenylacetaldehyde  \n",
    "Metabolite ID's \n",
    "3,4HPP 34hpp_c  3-(4-Hydroxyphenyl)pyruvate  \n",
    "4HPP: ?? (cytoplasmic)   \n",
    "4HPAA: 4hoxpacd_X (periplasmic/extracellular)  \n",
    "\n",
    "Check if these metabolites are present.  \n",
    "for i in JO.metabolites:  \n",
    "    if \"ydroxyphen\" in i.name:  \n",
    "        print(i.id, i.name)  \n",
    "        \n",
    "Can 34hpp_c be treated as HPP?  \n",
    "https://pubchem.ncbi.nlm.nih.gov/compound/3-_4-Hydroxyphenyl_pyruvate#section=Canonical-SMILES\n",
    "\n",
    "Think it is reasonable to treat 34hpp_c or vice versa, may well be a protonation situation.  \n",
    "In any case the following reaction achieves the effect:  \n",
    "3-(4-hydroxyphenyl)pyruvate + H+ → (4-hydroxyphenyl)acetaldehyde_c + CO2\n",
    "Source: https://metacyc.org/META/NEW-IMAGE?type=REACTION&object=4.1.1.80-RXN"
   ]
  },
  {
   "cell_type": "code",
   "execution_count": 6,
   "metadata": {},
   "outputs": [
    {
     "data": {
      "text/plain": [
       "{}"
      ]
     },
     "execution_count": 6,
     "metadata": {},
     "output_type": "execute_result"
    }
   ],
   "source": [
    "### Create Metabolites, Reaction & insert into model:\n",
    "# Access existing metabolites to add to the reaction:\n",
    "HPP = [i for i in m.metabolites if i.id == \"34hpp_c\"][0] # Acesses 34hpp_c using list as naming convention is not compatible.\n",
    "# Reactions associated with 34hpp_c: \n",
    "# print(\"Reactions associated with 34hpp_c\")\n",
    "# print(m.reactions.PPND.name) # Prephenate dehydrogenase\n",
    "# print(m.reactions.PPND.reaction) # Prephenate dehydrogenase\n",
    "# print(m.reactions.TYRTA.name) # Tyrosine transaminase <- \n",
    "# print(m.reactions.TYRTA.reaction) # Tyrosine transaminase\n",
    "\n",
    "# Hydrogen\n",
    "H_c = m.metabolites.h_c\n",
    "# Carbon Dioxide\n",
    "CO2_c = m.metabolites.co2_c\n",
    "\n",
    "# Creation of 'synkdc4' as a reaction called KDC4\n",
    "# Ref: https://cobrapy.readthedocs.io/en/latest/building_model.html#Model,-Reactions-and-Metabolites\n",
    "# New Metabolites:\n",
    "# 1. HPAA_c : Addiing HPAA to the cytosol, maintaining the naming convention used across other compartments:4hoxpacd_x\n",
    "HPAA_c = Metabolite(\n",
    "    '4hoxpacd_c',\n",
    "    formula='C8H8O2',\n",
    "    name='4-hydroxyphenylacetaldehyde',\n",
    "    compartment='c')\n",
    "\n",
    "# Creation of KDC4 Reaction \n",
    "reaction = Reaction('KDC4')\n",
    "reaction.name = '4-hydroxyphenylpyruvate decarboxylation'\n",
    "reaction.subsystem = 'Synthetic Tryosol Production'\n",
    "reaction.lower_bound = 0  # This is the default\n",
    "reaction.upper_bound = 1000  # This is the default \n",
    "\n",
    "# Add metabolite to reaction \n",
    "# Have to add metabolite objects..\n",
    "reaction.add_metabolites({\n",
    "    HPP: -1.0,\n",
    "    H_c: -1.0,\n",
    "    HPAA_c: 1.0,\n",
    "    CO2_c: 1.0\n",
    "})\n",
    "\n",
    "m.add_reactions([reaction]) # Add KDC4 to model; not associated with any genes.\n",
    "\n",
    "# Check added reaction\n",
    "m.reactions.KDC4\n",
    "\n",
    "m.reactions.KDC4.check_mass_balance() # Balanced reactions return empty dict"
   ]
  },
  {
   "cell_type": "code",
   "execution_count": 7,
   "metadata": {},
   "outputs": [
    {
     "name": "stdout",
     "output_type": "stream",
     "text": [
      "4hoxpacd_e\n",
      "4hoxpacd_p\n",
      "4hoxpacd_c\n"
     ]
    }
   ],
   "source": [
    "for met in m.metabolites:\n",
    "    if \"hoxpacd\" in met.id:\n",
    "        print(met)"
   ]
  },
  {
   "cell_type": "markdown",
   "metadata": {},
   "source": [
    "#### Tyrosol ADH Synthesis\n",
    "Add metabolite/reaction for Alcohol dehydrogenase synthesis of Tyrosol\n"
   ]
  },
  {
   "cell_type": "code",
   "execution_count": 8,
   "metadata": {},
   "outputs": [],
   "source": [
    "TYROSOL_c = Metabolite(\n",
    "    'Tyrosol_c',\n",
    "    formula='C8H10O2',\n",
    "    name='4-hydroxyphenylethanol (4-Tyrosol)',\n",
    "    compartment='c')\n",
    "\n",
    "NADH_c = m.metabolites.nadh_c\n",
    "NAD_c = m.metabolites.nad_c\n",
    "\n",
    "reaction = Reaction('HPAA_ADH')\n",
    "reaction.name = '4-hydroxyphenylacetylaldehyde dehydrogenase '\n",
    "reaction.subsystem = 'Synthetic Tryosol Production'\n",
    "reaction.lower_bound = 0  # This is the default\n",
    "reaction.upper_bound = 1000  # This is the default \n",
    "\n",
    "# Add metabolite to reaction \n",
    "# Have to add metabolite objects..\n",
    "reaction.add_metabolites({\n",
    "    HPAA_c: -1.0,\n",
    "    NADH_c: -1.0,\n",
    "    H_c: -1.0,\n",
    "    TYROSOL_c: 1.0,\n",
    "    NAD_c: 1.0\n",
    "})\n",
    "\n",
    "m.add_reactions([reaction])\n",
    "\n"
   ]
  },
  {
   "cell_type": "markdown",
   "metadata": {},
   "source": [
    "#### Tyrosol Transport Reaction\n",
    "Add extracellular compartment for tyrosol and create exchange reaxction to allow secretion needed for cross feeding"
   ]
  },
  {
   "cell_type": "code",
   "execution_count": 9,
   "metadata": {},
   "outputs": [],
   "source": [
    "# Create extracellular metabolite for conversion into.\n",
    "TYROSOL_e = Metabolite(\n",
    "    'Tyrosol_e',\n",
    "    formula='C8H10O2',\n",
    "    name='4-hydroxyphenylethanol (4-Tyrosol)',\n",
    "    compartment='e')\n",
    "\n",
    "reaction = Reaction('Tyrosolex')\n",
    "reaction.name = 'Tyrosol transport (cytoplasm to extracellular)'\n",
    "reaction.subsystem = 'Synthetic Tryosol Production'\n",
    "reaction.lower_bound = 0  # This is the default\n",
    "reaction.upper_bound = 1000  # This is the default \n",
    "\n",
    "# Add metabolite to reaction \n",
    "# Have to add metabolite objects..\n",
    "reaction.add_metabolites({\n",
    "    TYROSOL_c: -1.0,\n",
    "    TYROSOL_e: 1.0\n",
    "})\n",
    "\n",
    "m.add_reactions([reaction])\n",
    "\n",
    "# Critically important to add the export reaction as well for the steady state assumption\n",
    "reaction = Reaction(\"EX_Tyrosol_e\")\n",
    "reaction.name = \"Tyrosol Exchange Reaction\"\n",
    "reaction.subsystem = \"Synthetic Tyrosol Production\"\n",
    "reaction.lower_bound = 0\n",
    "reaction.upper_bound = 1000\n",
    "reaction.add_metabolites({\n",
    "    TYROSOL_e: -1.0\n",
    "})\n",
    "m.add_reactions([reaction])"
   ]
  },
  {
   "cell_type": "markdown",
   "metadata": {},
   "source": [
    "#### Allow Xylose Uptake By Default\n",
    "This provides carbon source when ability to uptake glucose is knocked out below."
   ]
  },
  {
   "cell_type": "code",
   "execution_count": 10,
   "metadata": {},
   "outputs": [
    {
     "name": "stdout",
     "output_type": "stream",
     "text": [
      "D-Xylose exchange EX_xyl__D_e\n"
     ]
    }
   ],
   "source": [
    "for i in m.exchanges:\n",
    "    if \"ylos\" in i.name:\n",
    "        print(i.name, i.id)\n",
    "\n",
    "m.reactions.EX_xyl__D_e\n",
    "m.reactions.EX_xyl__D_e.lower_bound = -10.0"
   ]
  },
  {
   "cell_type": "markdown",
   "metadata": {},
   "source": [
    "#### Gene Knockouts"
   ]
  },
  {
   "cell_type": "code",
   "execution_count": 11,
   "metadata": {},
   "outputs": [
    {
     "name": "stdout",
     "output_type": "stream",
     "text": [
      "[('pheA', 'b2599'), ('ptsG', 'b1101'), ('feaB', 'b1385'), ('manZ', 'b1819'), ('pykF', 'b1676'), ('pykA', 'b1854')]\n",
      "Before\n",
      "ACGAptspp (0.0, 1000.0)\n",
      "ACMANAptspp (0.0, 1000.0)\n",
      "ALDD19xr (-1000.0, 1000.0)\n",
      "CHORM (0.0, 1000.0)\n",
      "FRUpts2pp (0.0, 1000.0)\n",
      "GLCptspp (0.0, 1000.0)\n",
      "GAMptspp (0.0, 1000.0)\n",
      "MANptspp (0.0, 1000.0)\n",
      "PPNDH (0.0, 1000.0)\n",
      "PYK (0.0, 1000.0)\n",
      "\n",
      "After:\n",
      "ACGAptspp (0.0, 1000.0)\n",
      "ACMANAptspp (0, 0)\n",
      "ALDD19xr (0, 0)\n",
      "CHORM (0.0, 1000.0)\n",
      "FRUpts2pp (0, 0)\n",
      "GLCptspp (0.0, 1000.0)\n",
      "GAMptspp (0, 0)\n",
      "MANptspp (0, 0)\n",
      "PPNDH (0, 0)\n",
      "PYK (0, 0)\n"
     ]
    }
   ],
   "source": [
    "t = [\n",
    "    \"ptsG\",\n",
    "    \"pykA\",\n",
    "    \"pykF\",\n",
    "    \"tyrR\",\n",
    "    \"pheA\",\n",
    "    \"feaB\",\n",
    "    \"manZ\"\n",
    "]\n",
    "\n",
    "print([(i.name,i.id) for i in m.genes if i.name in t]) #  tyrR is missing from the model TODO\n",
    "### Identifying genes/reactions that may represent those reactions indicated by tyrR and manZ\n",
    "# 1. Deletion\tΔtyrR \t\t\t?\n",
    "# tyrR\n",
    "# \"pathway-specific transcriptional regulatory\n",
    "# gene tyrR led to enhanced expression of genes relevant to L-\n",
    "# tyrosine biosynthesis, including aroG, tyrB and aroL\" - yao 2013 \n",
    "# This indicates it suppresses production of tyrosine - may not be accounted for properly in the model.\n",
    "# Action: ignore \n",
    "\n",
    "\n",
    "# Identify affected reactions:\n",
    "# for g in m.genes:\n",
    "#     if g.name in t:\n",
    "#         for r in g.reactions:\n",
    "#             print(r.id)\n",
    "\n",
    "# Resultant list: \n",
    "t_r = [\"PPNDH\",\"CHORM\",\"GLCptspp\",\"ACGAptspp\",\"ALDD19xr\",\"ACMANAptspp\",\"GLCptspp\",\"FRUpts2pp\",\"GAMptspp\",\"MANptspp\",\"PYK\",\"PYK\"]\n",
    "\n",
    "print(\"Before\")\n",
    "for r in m.reactions:\n",
    "    if r.id in t_r:\n",
    "        print(r.id, r.bounds)\n",
    "\n",
    "tgts = [g for g in m.genes if g.name in t]\n",
    "\n",
    "\n",
    "# for i in range(len(tgts)):\n",
    "#     # tgts = [g for g in model.genes if g.name in t]\n",
    "#     with m as model:\n",
    "#         tgts[i].knock_out()\n",
    "#         print(tgts[i], model.slim_optimize())\n",
    "    \n",
    "\n",
    "for g in tgts:\n",
    "    g.knock_out()\n",
    "# See if KO has had an effect:\n",
    "print(\"\\nAfter:\")\n",
    "for r in m.reactions:\n",
    "    if r.id in t_r:\n",
    "        print(r.id, r.bounds)\n"
   ]
  },
  {
   "cell_type": "markdown",
   "metadata": {},
   "source": [
    "#### Manually prevent uptake of glucose\n",
    "For the model the KO of ptsG and manZ are insufficient   to prevent glucose uptake from media so this is enforced by manually constriaing the two GLCtex transport reactions "
   ]
  },
  {
   "cell_type": "code",
   "execution_count": 12,
   "metadata": {},
   "outputs": [],
   "source": [
    "# Literally what happened to this?\n",
    "m.reactions.GLCtex_copy1.bounds = (0,0)\n",
    "m.reactions.GLCtex_copy2.bounds = (0,0)"
   ]
  },
  {
   "cell_type": "markdown",
   "metadata": {},
   "source": [
    "#### Add Phenylalanine To Media\n",
    "Else will become non-viable as soon as pheA gene is KO."
   ]
  },
  {
   "cell_type": "code",
   "execution_count": 13,
   "metadata": {},
   "outputs": [
    {
     "name": "stdout",
     "output_type": "stream",
     "text": [
      "0.0\n",
      "0.8182241571069285\n"
     ]
    }
   ],
   "source": [
    "# At this point it should not be able to grow ubless phenylalanine is externally avialible.\n",
    "print(m.slim_optimize())\n",
    "\n",
    "m.reactions.EX_phe__L_e.bounds = (-3,10)\n",
    "# Should now be able to grow\n",
    "print(m.slim_optimize())\n"
   ]
  },
  {
   "cell_type": "markdown",
   "metadata": {},
   "source": [
    "Tests"
   ]
  },
  {
   "cell_type": "code",
   "execution_count": 14,
   "metadata": {},
   "outputs": [
    {
     "name": "stdout",
     "output_type": "stream",
     "text": [
      "0.8182241571069264\n",
      "0.8182241571069264\n"
     ]
    }
   ],
   "source": [
    "# AG should not be able to uptake glucose\n",
    " \n",
    "# Check the effect of glucose on the medium\n",
    "with m as model:\n",
    "    # model.reactions.EX_xyl__D_e.bounds = (0,0)\n",
    "    model.reactions.EX_glc__D_e.bounds = (0,0)\n",
    "    print(model.slim_optimize())\n",
    "    model.reactions.EX_glc__D_e.bounds = (-10,100)\n",
    "    print(model.slim_optimize())\n",
    "\n"
   ]
  },
  {
   "cell_type": "code",
   "execution_count": 15,
   "metadata": {},
   "outputs": [
    {
     "name": "stdout",
     "output_type": "stream",
     "text": [
      "nan\n",
      "0.8182241571069291\n"
     ]
    }
   ],
   "source": [
    "# check if can grow without xylose\n",
    "# m.medium\n",
    "with m as model:\n",
    "    model.reactions.EX_xyl__D_e.bounds = (0,0)\n",
    "    print(model.slim_optimize())\n",
    "    model.reactions.EX_xyl__D_e.bounds = (-10,100)\n",
    "    print(model.slim_optimize())"
   ]
  },
  {
   "cell_type": "code",
   "execution_count": 16,
   "metadata": {},
   "outputs": [
    {
     "data": {
      "text/plain": [
       "{'EX_co2_e': 1000.0,\n",
       " 'EX_cobalt2_e': 1000.0,\n",
       " 'EX_glc__D_e': 10.0,\n",
       " 'EX_h_e': 1000.0,\n",
       " 'EX_h2o_e': 1000.0,\n",
       " 'EX_k_e': 1000.0,\n",
       " 'EX_cu2_e': 1000.0,\n",
       " 'EX_mg2_e': 1000.0,\n",
       " 'EX_mn2_e': 1000.0,\n",
       " 'EX_mobd_e': 1000.0,\n",
       " 'EX_na1_e': 1000.0,\n",
       " 'EX_nh4_e': 1000.0,\n",
       " 'EX_ca2_e': 1000.0,\n",
       " 'EX_cbl1_e': 0.01,\n",
       " 'EX_ni2_e': 1000.0,\n",
       " 'EX_o2_e': 1000.0,\n",
       " 'EX_phe__L_e': 3,\n",
       " 'EX_cl_e': 1000.0,\n",
       " 'EX_pi_e': 1000.0,\n",
       " 'EX_xyl__D_e': 10.0,\n",
       " 'EX_zn2_e': 1000.0,\n",
       " 'EX_sel_e': 1000.0,\n",
       " 'EX_slnt_e': 1000.0,\n",
       " 'EX_so4_e': 1000.0,\n",
       " 'EX_tungs_e': 1000.0,\n",
       " 'EX_fe2_e': 1000.0,\n",
       " 'EX_fe3_e': 1000.0}"
      ]
     },
     "execution_count": 16,
     "metadata": {},
     "output_type": "execute_result"
    }
   ],
   "source": [
    "# Final media representaion for single culture growth.\n",
    "m.medium"
   ]
  },
  {
   "cell_type": "markdown",
   "metadata": {},
   "source": [
    "#### aroGfbr-tyrAfbr-aroE Overexpression\n",
    "Unsure how to implement"
   ]
  },
  {
   "cell_type": "markdown",
   "metadata": {},
   "source": [
    "#### Save Model"
   ]
  },
  {
   "cell_type": "code",
   "execution_count": 17,
   "metadata": {},
   "outputs": [],
   "source": [
    "cobra.io.write_sbml_model(m,\"../../data/AG.xml\")"
   ]
  },
  {
   "cell_type": "markdown",
   "metadata": {},
   "source": [
    "# END: AG Strain Reconstruction"
   ]
  },
  {
   "cell_type": "code",
   "execution_count": 18,
   "metadata": {},
   "outputs": [],
   "source": [
    "# Clear Jupyter notebook variables ad reload required libraries\n",
    "%reset -f"
   ]
  },
  {
   "cell_type": "code",
   "execution_count": 19,
   "metadata": {},
   "outputs": [],
   "source": [
    "import cobra\n",
    "from cobra.io import load_json_model, save_json_model, load_matlab_model, save_matlab_model, read_sbml_model, write_sbml_model\n",
    "from cobra import Model, Reaction, Metabolite\n",
    "from cameo import models\n",
    "from cameo import load_model"
   ]
  },
  {
   "cell_type": "markdown",
   "metadata": {},
   "source": [
    "# START: GD Strain Reconstruction"
   ]
  },
  {
   "cell_type": "markdown",
   "metadata": {},
   "source": [
    "Reminder: iHK1487 is the most up to date representation of BL21(DE3)  \n",
    "**Modifications**:  \n",
    "OverExpression\tpgm\tPhosphoglucomutase\t\tG6P ⇌ G1P  \n",
    "OverExpression\tgalU\tUTP-glucose-1-phosphate uridylyltransferase \t\tg1p_c + h_c + utp_c → ppi_c + udpg_c  \n",
    "Deletion\tushA\t\t\t  \n",
    "Deletion\ttyrA\t\t\t  \n",
    "Deletion\txylA\tXylose Isomerase  \n",
    "Insertion   synugt85a1  ??\t"
   ]
  },
  {
   "cell_type": "code",
   "execution_count": 20,
   "metadata": {},
   "outputs": [],
   "source": [
    "# m = load_model(\"../Stable/iHK1487.xml\")\n",
    "m = load_model(\"../../data/iHK1487.xml\")"
   ]
  },
  {
   "cell_type": "markdown",
   "metadata": {},
   "source": [
    "#### Gene Deletions\n",
    "Cross-Identified from iJO1366:  \n",
    "name  x-ref   id  \n",
    "b2600 tyrA ECD_02489   \n",
    "b0480 ushA ECD_00431   \n",
    "b3565 xylA ECD_03417  "
   ]
  },
  {
   "cell_type": "code",
   "execution_count": 21,
   "metadata": {},
   "outputs": [
    {
     "data": {
      "text/html": [
       "\n",
       "        <table>\n",
       "            <tr>\n",
       "                <td><strong>Name</strong></td>\n",
       "                <td>iHK1487</td>\n",
       "            </tr><tr>\n",
       "                <td><strong>Memory address</strong></td>\n",
       "                <td>0x014a7f9b3d90</td>\n",
       "            </tr><tr>\n",
       "                <td><strong>Number of metabolites</strong></td>\n",
       "                <td>1877</td>\n",
       "            </tr><tr>\n",
       "                <td><strong>Number of reactions</strong></td>\n",
       "                <td>2701</td>\n",
       "            </tr><tr>\n",
       "                <td><strong>Number of groups</strong></td>\n",
       "                <td>0</td>\n",
       "            </tr><tr>\n",
       "                <td><strong>Objective expression</strong></td>\n",
       "                <td>1.0*BIOMASS_Ec_iHK1487_core - 1.0*BIOMASS_Ec_iHK1487_core_reverse_c9aec</td>\n",
       "            </tr><tr>\n",
       "                <td><strong>Compartments</strong></td>\n",
       "                <td>cytosol, extracellular space, periplasm</td>\n",
       "            </tr>\n",
       "          </table>"
      ],
      "text/plain": [
       "<Model iHK1487 at 0x14a7f9b3d90>"
      ]
     },
     "execution_count": 21,
     "metadata": {},
     "output_type": "execute_result"
    }
   ],
   "source": [
    "m"
   ]
  },
  {
   "cell_type": "code",
   "execution_count": 22,
   "metadata": {},
   "outputs": [
    {
     "name": "stdout",
     "output_type": "stream",
     "text": [
      "Before:\n",
      "CHORM (0.0, 1000.0)\n",
      "PPND (0.0, 1000.0)\n",
      "XYLI1 (-1000.0, 1000.0)\n",
      "XYLI2 (-1000.0, 1000.0)\n",
      "UGLCURPpp (0.0, 1000.0)\n",
      "NTD10pp (0.0, 1000.0)\n",
      "NTD8pp (0.0, 1000.0)\n",
      "NTD12pp (0.0, 1000.0)\n",
      "UACGAMPpp (0.0, 1000.0)\n",
      "NTD5pp (0.0, 1000.0)\n",
      "UDPGALPpp (0.0, 1000.0)\n",
      "NTD6pp (0.0, 1000.0)\n",
      "NTD4pp (0.0, 1000.0)\n",
      "UACGALPpp (0.0, 1000.0)\n",
      "NTD1pp (0.0, 1000.0)\n",
      "NTD2pp (0.0, 1000.0)\n",
      "NTD11pp (0.0, 1000.0)\n",
      "NTD9pp (0.0, 1000.0)\n",
      "NTD3pp (0.0, 1000.0)\n",
      "NTD7pp (0.0, 1000.0)\n",
      "UDPGPpp (0.0, 1000.0)\n",
      "\n",
      "After:\n",
      "CHORM (0.0, 1000.0)\n",
      "PPND (0, 0)\n",
      "XYLI1 (0, 0)\n",
      "XYLI2 (0, 0)\n",
      "UGLCURPpp (0, 0)\n",
      "NTD10pp (0.0, 1000.0)\n",
      "NTD8pp (0.0, 1000.0)\n",
      "NTD12pp (0.0, 1000.0)\n",
      "UACGAMPpp (0, 0)\n",
      "NTD5pp (0.0, 1000.0)\n",
      "UDPGALPpp (0, 0)\n",
      "NTD6pp (0.0, 1000.0)\n",
      "NTD4pp (0.0, 1000.0)\n",
      "UACGALPpp (0, 0)\n",
      "NTD1pp (0.0, 1000.0)\n",
      "NTD2pp (0.0, 1000.0)\n",
      "NTD11pp (0.0, 1000.0)\n",
      "NTD9pp (0.0, 1000.0)\n",
      "NTD3pp (0.0, 1000.0)\n",
      "NTD7pp (0.0, 1000.0)\n",
      "UDPGPpp (0, 0)\n"
     ]
    }
   ],
   "source": [
    "t = [\"ECD_02489\",\"ECD_00431\",\"ECD_03417\"]\n",
    "tgts = [i for i in m.genes if i.id in t]\n",
    "# for g in tgts:\n",
    "#     print(g.reactions)\n",
    "\n",
    "\n",
    "print(\"Before:\")\n",
    "for g in tgts:\n",
    "    for r in g.reactions:\n",
    "        print(r.id, r.bounds)\n",
    "\n",
    "for g in tgts:\n",
    "    g.knock_out()\n",
    "\n",
    "print(\"\\nAfter:\")\n",
    "for g in tgts:\n",
    "    for r in g.reactions:\n",
    "        print(r.id, r.bounds)\n"
   ]
  },
  {
   "cell_type": "markdown",
   "metadata": {},
   "source": [
    "#### Allow Phenylalanine Export\n",
    "pathway exists natively"
   ]
  },
  {
   "cell_type": "markdown",
   "metadata": {},
   "source": [
    "#### Add Tyrosol to Model & Allow Uptake"
   ]
  },
  {
   "cell_type": "code",
   "execution_count": 23,
   "metadata": {},
   "outputs": [],
   "source": [
    "# Create tyrosol metabolites\n",
    "TYROSOL_e = Metabolite(\n",
    "    'Tyrosol_e',\n",
    "    formula='C8H10O2',\n",
    "    name='4-hydroxyphenylethanol (4-Tyrosol)',\n",
    "    compartment='e')\n",
    "\n",
    "TYROSOL_c = Metabolite(\n",
    "    'Tyrosol_c',\n",
    "    formula='C8H10O2',\n",
    "    name='4-hydroxyphenylethanol (4-Tyrosol)',\n",
    "    compartment='c')\n",
    "\n",
    "reaction = Reaction('Tyrosolex')\n",
    "reaction.name = 'Tyrosol transport (extracellular to cytoplasm)'\n",
    "reaction.subsystem = 'Synthetic Salidroside Production'\n",
    "reaction.lower_bound = 0  # This is the default\n",
    "reaction.upper_bound = 1000  # This is the default \n",
    "\n",
    "# Add metabolite to reaction \n",
    "# Have to add metabolite objects..\n",
    "reaction.add_metabolites({\n",
    "    TYROSOL_e: -1.0,\n",
    "    TYROSOL_c: 1.0\n",
    "})\n",
    "\n",
    "m.add_reactions([reaction])\n",
    "\n",
    "# Check added reaction\n",
    "# BL21.reactions.{}\n",
    "# BL21.reactions.{}.check_mass_balance()\n",
    "\n",
    "\n",
    "# Add in exchange reaction as well for monoculture testing\n",
    "reaction = Reaction('EX_Tyrosol_e')\n",
    "reaction.name = 'Tyrosol Exchange'\n",
    "reaction.subsystem = 'Synthetic Salidroside Production'\n",
    "reaction.lower_bound = 0  # This is the default\n",
    "reaction.upper_bound = 1000  # This is the default \n",
    "\n",
    "reaction.add_metabolites({\n",
    "    TYROSOL_e: -1.0\n",
    "})\n",
    "\n",
    "m.add_reactions([reaction])"
   ]
  },
  {
   "cell_type": "markdown",
   "metadata": {},
   "source": [
    "#### Allow Tyrosine uptake from media"
   ]
  },
  {
   "cell_type": "code",
   "execution_count": 24,
   "metadata": {},
   "outputs": [
    {
     "data": {
      "text/html": [
       "\n",
       "        <table>\n",
       "            <tr>\n",
       "                <td><strong>Reaction identifier</strong></td><td>EX_tyr__L_e</td>\n",
       "            </tr><tr>\n",
       "                <td><strong>Name</strong></td><td>L-Tyrosine exchange</td>\n",
       "            </tr><tr>\n",
       "                <td><strong>Memory address</strong></td>\n",
       "                <td>0x014a08396aa0</td>\n",
       "            </tr><tr>\n",
       "                <td><strong>Stoichiometry</strong></td>\n",
       "                <td>\n",
       "                    <p style='text-align:right'>tyr__L_e <=></p>\n",
       "                    <p style='text-align:right'>L-Tyrosine <=></p>\n",
       "                </td>\n",
       "            </tr><tr>\n",
       "                <td><strong>GPR</strong></td><td></td>\n",
       "            </tr><tr>\n",
       "                <td><strong>Lower bound</strong></td><td>-3.0</td>\n",
       "            </tr><tr>\n",
       "                <td><strong>Upper bound</strong></td><td>1000.0</td>\n",
       "            </tr>\n",
       "        </table>\n",
       "        "
      ],
      "text/plain": [
       "<Reaction EX_tyr__L_e at 0x14a08396aa0>"
      ]
     },
     "execution_count": 24,
     "metadata": {},
     "output_type": "execute_result"
    }
   ],
   "source": [
    "m.reactions.EX_tyr__L_e.lower_bound = -3.0 # Allow import of Tyrosine\n",
    "m.reactions.EX_tyr__L_e"
   ]
  },
  {
   "cell_type": "markdown",
   "metadata": {},
   "source": [
    "#### Salisdroside BioSynthesis"
   ]
  },
  {
   "cell_type": "code",
   "execution_count": 25,
   "metadata": {},
   "outputs": [
    {
     "name": "stdout",
     "output_type": "stream",
     "text": [
      "6pgg_c  :::  6-Phospho-beta-D-glucosyl-(1,4)-D-glucose\n",
      "dtdp4d6dg_c  :::  DTDP-4-dehydro-6-deoxy-D-glucose\n",
      "g6p_e  :::  D-Glucose 6-phosphate\n",
      "g1p_e  :::  D-Glucose 1-phosphate\n",
      "udcpgl_c  :::  Undecaprenol-diphosphate-glucose\n",
      "g6p_p  :::  D-Glucose 6-phosphate\n",
      "2doxg6p_c  :::  2 Deoxy D glucose 6 phosphate C6H11O8P\n",
      "udpg_e  :::  UDPglucose\n",
      "adpglc_c  :::  ADPglucose C16H23N5O15P2\n",
      "glc__D_c  :::  D-Glucose\n",
      "g1p_p  :::  D-Glucose 1-phosphate\n",
      "udpg_c  :::  UDPglucose\n",
      "g1p_c  :::  D-Glucose 1-phosphate\n",
      "udpg_p  :::  UDPglucose\n",
      "acglc__D_c  :::  6-Acetyl-D-glucose\n",
      "glc__D_e  :::  D-Glucose\n",
      "g6p_c  :::  D-Glucose 6-phosphate\n",
      "glc__D_p  :::  D-Glucose\n",
      "dtdpglu_c  :::  DTDPglucose\n",
      "2dglc_p  :::  2 Deoxy D glucose C6H12O5\n",
      "2dglc_c  :::  2 Deoxy D glucose C6H12O5\n",
      "2dglc_e  :::  2 Deoxy D glucose C6H12O5\n"
     ]
    }
   ],
   "source": [
    "# synugt85a1 insertion \n",
    "# Salidroside Production\n",
    "# https://metacyc.org/compound?orgid=META&id=CPD-13354#tab=RXNS\n",
    "# Reaction:\n",
    "# UDP-α-D-glucose + 4-tyrosol → salidroside + UDP + H+\n",
    "\n",
    "# UDP GLucose is a synonym\n",
    "# UDPGlucose formula: C15H22N2O17P2\n",
    "# m.metabolites.udpg_c # Matches\n",
    "\n",
    "for i in m.metabolites:\n",
    "    if \"lucose\" in i.name:\n",
    "        print(i.id,\" ::: \",i.name)\n",
    "\n",
    "H_c = m.metabolites.h_c\n",
    "UDPGLC_c = m.metabolites.udpg_c\n",
    "UDP_c = m.metabolites.udp_c\n",
    "\n",
    "# Create Salidroside Metabolites\n",
    "Salidroside_c = Metabolite(\n",
    "    'Salidroside_c',\n",
    "    formula='C14H20O7',\n",
    "    name='8-O-b-D-glucoside of tyrosol (salidroside)',\n",
    "    compartment='c')\n",
    "\n",
    "Salidroside_e = Metabolite(\n",
    "    'Salidroside_e',\n",
    "    formula='C14H20O7',\n",
    "    name='8-O-b-D-glucoside of tyrosol (salidroside)',\n",
    "    compartment='e')\n",
    "\n",
    "\n",
    "reaction = Reaction('SALIDROSIDE_BIOSYNTHESIS')\n",
    "reaction.name = 'SALIDROSIDE_BIOSYNTHESIS'\n",
    "reaction.subsystem = 'Synthetic Salidroside Production'\n",
    "reaction.lower_bound = 0  # This is the default\n",
    "reaction.upper_bound = 1000  # This is the default \n",
    "\n",
    "# Add metabolite to reaction \n",
    "# Have to add metabolite objects..\n",
    "# UDP-α-D-glucose + 4-tyrosol → salidroside + UDP + H+\n",
    "# Bypass salidroside_c -> _e reaction for expediancy\n",
    "reaction.add_metabolites({\n",
    "    TYROSOL_c: -1.0,\n",
    "    UDPGLC_c: -1.0,\n",
    "    Salidroside_e: 1.0,\n",
    "    UDP_c: 1.0,\n",
    "    H_c: 1.0\n",
    "})\n",
    "\n",
    "m.add_reactions([reaction])\n",
    "\n"
   ]
  },
  {
   "cell_type": "code",
   "execution_count": 26,
   "metadata": {},
   "outputs": [],
   "source": [
    "# Open exchange reaction\n",
    "m.reactions.EX_co2_e\n",
    "\n",
    "reaction = Reaction('EX_Salidroside_e')\n",
    "reaction.name = 'Salidroside Exchange'\n",
    "reaction.subsystem = 'Synthetic Salidroside Production'\n",
    "reaction.lower_bound = -0  # This is the default\n",
    "reaction.upper_bound = 1000  # This is the default \n",
    "\n",
    "reaction.add_metabolites({\n",
    "    Salidroside_e: -1.0\n",
    "})\n",
    "\n",
    "m.add_reactions([reaction])"
   ]
  },
  {
   "cell_type": "code",
   "execution_count": 27,
   "metadata": {},
   "outputs": [
    {
     "data": {
      "text/plain": [
       "{'C': -14.0, 'H': -20.0, 'O': -7.0}"
      ]
     },
     "execution_count": 27,
     "metadata": {},
     "output_type": "execute_result"
    }
   ],
   "source": [
    "# Check added reaction\n",
    "m.reactions.EX_Salidroside_e\n",
    "m.reactions.EX_Salidroside_e.check_mass_balance()"
   ]
  },
  {
   "cell_type": "markdown",
   "metadata": {},
   "source": [
    "# END: GD Strain Reconstruction"
   ]
  },
  {
   "cell_type": "code",
   "execution_count": 28,
   "metadata": {},
   "outputs": [
    {
     "name": "stdout",
     "output_type": "stream",
     "text": [
      "0.0\n",
      "0.8294303202662239\n"
     ]
    }
   ],
   "source": [
    "m.reactions.EX_tyr__L_e.bounds = (0,10)\n",
    "print(m.slim_optimize())\n",
    "\n",
    "m.reactions.EX_tyr__L_e.bounds = (-3,10)\n",
    "# Should now be able to grow\n",
    "print(m.slim_optimize())"
   ]
  },
  {
   "cell_type": "code",
   "execution_count": 29,
   "metadata": {},
   "outputs": [
    {
     "data": {
      "text/plain": [
       "{'EX_pi_e': 1000.0,\n",
       " 'EX_h_e': 1000.0,\n",
       " 'EX_fe3_e': 1000.0,\n",
       " 'EX_mn2_e': 1000.0,\n",
       " 'EX_co2_e': 1000.0,\n",
       " 'EX_tyr__L_e': 3,\n",
       " 'EX_fe2_e': 1000.0,\n",
       " 'EX_glc__D_e': 10.0,\n",
       " 'EX_zn2_e': 1000.0,\n",
       " 'EX_mg2_e': 1000.0,\n",
       " 'EX_ca2_e': 1000.0,\n",
       " 'EX_ni2_e': 1000.0,\n",
       " 'EX_cu2_e': 1000.0,\n",
       " 'EX_cobalt2_e': 1000.0,\n",
       " 'EX_sel_e': 1000.0,\n",
       " 'EX_h2o_e': 1000.0,\n",
       " 'EX_nh4_e': 1000.0,\n",
       " 'EX_mobd_e': 1000.0,\n",
       " 'EX_so4_e': 1000.0,\n",
       " 'EX_k_e': 1000.0,\n",
       " 'EX_na1_e': 1000.0,\n",
       " 'EX_o2_e': 18.5,\n",
       " 'EX_cl_e': 1000.0,\n",
       " 'EX_tungs_e': 1000.0,\n",
       " 'EX_slnt_e': 1000.0}"
      ]
     },
     "execution_count": 29,
     "metadata": {},
     "output_type": "execute_result"
    }
   ],
   "source": [
    "m.medium"
   ]
  },
  {
   "cell_type": "code",
   "execution_count": 30,
   "metadata": {},
   "outputs": [],
   "source": [
    "write_sbml_model(m,\"../../data/GD.xml\")"
   ]
  },
  {
   "cell_type": "markdown",
   "metadata": {},
   "source": [
    "# Done"
   ]
  }
 ],
 "metadata": {
  "kernelspec": {
   "display_name": "Python 3.10.4 ('gsmm-3')",
   "language": "python",
   "name": "python3"
  },
  "language_info": {
   "codemirror_mode": {
    "name": "ipython",
    "version": 3
   },
   "file_extension": ".py",
   "mimetype": "text/x-python",
   "name": "python",
   "nbconvert_exporter": "python",
   "pygments_lexer": "ipython3",
   "version": "3.10.4"
  },
  "orig_nbformat": 4,
  "vscode": {
   "interpreter": {
    "hash": "e563dc09366b75055ee9928db1f4160e5b3c37b8da74c95d5acc436a5e537a75"
   }
  }
 },
 "nbformat": 4,
 "nbformat_minor": 2
}
