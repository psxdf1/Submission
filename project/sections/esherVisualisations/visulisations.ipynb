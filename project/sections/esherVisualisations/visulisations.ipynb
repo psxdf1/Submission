{
 "cells": [
  {
   "cell_type": "markdown",
   "metadata": {},
   "source": [
    "# Esher visualisations\n",
    "\n",
    "Using Escher to visualise the target pathway for Salidroside Biosynthesis in the GD strain.\n",
    "This can then be used as a point of refernce to observe how community corss-feeding circumvence the couple.\n",
    "\n"
   ]
  },
  {
   "cell_type": "code",
   "execution_count": 1,
   "metadata": {},
   "outputs": [
    {
     "name": "stdout",
     "output_type": "stream",
     "text": [
      "Set parameter Username\n",
      "Academic license - for non-commercial use only - expires 2023-08-10\n"
     ]
    }
   ],
   "source": [
    "# Convert model to json format for quick upload to the web interface.\n",
    "# save_json_model(textbook_model, \"test.json\")\n",
    "\n",
    "# load GD model.\n",
    "import cobra.io\n",
    "\n",
    "model_paths = [\"../../data/GD.xml\"]\n",
    "models = []\n",
    "\n",
    "for i in range(len(model_paths)):\n",
    "    models.append(cobra.io.read_sbml_model(model_paths[i]))\n",
    "\n",
    "# Convienince\n",
    "GD = models[0]\n",
    "\n",
    "cobra.io.save_json_model(GD, \"../../data/GD.json\")\n"
   ]
  }
 ],
 "metadata": {
  "kernelspec": {
   "display_name": "Python 3.10.4 ('gsmm-3')",
   "language": "python",
   "name": "python3"
  },
  "language_info": {
   "codemirror_mode": {
    "name": "ipython",
    "version": 3
   },
   "file_extension": ".py",
   "mimetype": "text/x-python",
   "name": "python",
   "nbconvert_exporter": "python",
   "pygments_lexer": "ipython3",
   "version": "3.10.4"
  },
  "orig_nbformat": 4,
  "vscode": {
   "interpreter": {
    "hash": "e563dc09366b75055ee9928db1f4160e5b3c37b8da74c95d5acc436a5e537a75"
   }
  }
 },
 "nbformat": 4,
 "nbformat_minor": 2
}
