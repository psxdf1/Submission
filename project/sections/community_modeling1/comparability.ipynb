{
 "cells": [
  {
   "cell_type": "markdown",
   "metadata": {},
   "source": [
    "Comparision of The growth of individual models vs communiyt models\n",
    "\n",
    "Generate growth of individual models and then generate community solution to establish comparibility."
   ]
  },
  {
   "cell_type": "code",
   "execution_count": 12,
   "metadata": {},
   "outputs": [],
   "source": [
    "import micom as mc\n",
    "import numpy as np\n",
    "import matplotlib as mp \n",
    "import matplotlib.pyplot as plt\n",
    "\n",
    "from utils import *\n",
    "from utilPlots import *"
   ]
  },
  {
   "cell_type": "code",
   "execution_count": 13,
   "metadata": {},
   "outputs": [
    {
     "name": "stdout",
     "output_type": "stream",
     "text": [
      "Read LP format model from file C:\\Users\\domin\\AppData\\Local\\Temp\\tmp9q5auhdr.lp\n",
      "Reading time = 0.07 seconds\n",
      ": 4042 rows, 11287 columns, 43241 nonzeros\n"
     ]
    },
    {
     "data": {
      "text/html": [
       "<div>\n",
       "<style scoped>\n",
       "    .dataframe tbody tr th:only-of-type {\n",
       "        vertical-align: middle;\n",
       "    }\n",
       "\n",
       "    .dataframe tbody tr th {\n",
       "        vertical-align: top;\n",
       "    }\n",
       "\n",
       "    .dataframe thead th {\n",
       "        text-align: right;\n",
       "    }\n",
       "</style>\n",
       "<table border=\"1\" class=\"dataframe\">\n",
       "  <thead>\n",
       "    <tr style=\"text-align: right;\">\n",
       "      <th></th>\n",
       "      <th>id</th>\n",
       "      <th>genus</th>\n",
       "      <th>species</th>\n",
       "      <th>file</th>\n",
       "      <th>abundance</th>\n",
       "    </tr>\n",
       "    <tr>\n",
       "      <th>id</th>\n",
       "      <th></th>\n",
       "      <th></th>\n",
       "      <th></th>\n",
       "      <th></th>\n",
       "      <th></th>\n",
       "    </tr>\n",
       "  </thead>\n",
       "  <tbody>\n",
       "    <tr>\n",
       "      <th>AG_uc</th>\n",
       "      <td>AG_uc</td>\n",
       "      <td>ecoli</td>\n",
       "      <td>Ecoli AG</td>\n",
       "      <td>project/data/AG.xml</td>\n",
       "      <td>0.5</td>\n",
       "    </tr>\n",
       "    <tr>\n",
       "      <th>GD_uc</th>\n",
       "      <td>GD_uc</td>\n",
       "      <td>ecoli</td>\n",
       "      <td>Ecoli GD</td>\n",
       "      <td>project/data/GD.xml</td>\n",
       "      <td>0.5</td>\n",
       "    </tr>\n",
       "  </tbody>\n",
       "</table>\n",
       "</div>"
      ],
      "text/plain": [
       "          id  genus   species                 file  abundance\n",
       "id                                                           \n",
       "AG_uc  AG_uc  ecoli  Ecoli AG  project/data/AG.xml        0.5\n",
       "GD_uc  GD_uc  ecoli  Ecoli GD  project/data/GD.xml        0.5"
      ]
     },
     "execution_count": 13,
     "metadata": {},
     "output_type": "execute_result"
    }
   ],
   "source": [
    "# Load pre-built model (Should be quicker)\n",
    "\n",
    "import cobra.io\n",
    "\n",
    "models = []\n",
    "model_paths = [\"../../data/GD.xml\", \"../../data/AG.xml\"]\n",
    "\n",
    "for i in range(len(model_paths)):\n",
    "    models.append(cobra.io.read_sbml_model(model_paths[i]))\n",
    "\n",
    "# Vars for Convienince\n",
    "GD = models[0]\n",
    "AG = models[1]\n",
    "\n",
    "com = mc.load_pickle(\"../../data/community.pickle\")\n",
    "# View dataframe used to build the communty with the taxonomy attribute.\n",
    "# Note that the abundance column has been populated with default values.\n",
    "com.taxonomy\n"
   ]
  },
  {
   "cell_type": "code",
   "execution_count": 14,
   "metadata": {},
   "outputs": [],
   "source": [
    "sols = {}\n",
    "sols[\"AG\"] = AG.optimize()\n",
    "sols[\"GD\"] = GD.optimize()"
   ]
  },
  {
   "cell_type": "code",
   "execution_count": 15,
   "metadata": {},
   "outputs": [
    {
     "data": {
      "text/html": [
       "<strong><em>Optimal</em> solution with objective value 0.818</strong><br><div>\n",
       "<style scoped>\n",
       "    .dataframe tbody tr th:only-of-type {\n",
       "        vertical-align: middle;\n",
       "    }\n",
       "\n",
       "    .dataframe tbody tr th {\n",
       "        vertical-align: top;\n",
       "    }\n",
       "\n",
       "    .dataframe thead th {\n",
       "        text-align: right;\n",
       "    }\n",
       "</style>\n",
       "<table border=\"1\" class=\"dataframe\">\n",
       "  <thead>\n",
       "    <tr style=\"text-align: right;\">\n",
       "      <th></th>\n",
       "      <th>fluxes</th>\n",
       "      <th>reduced_costs</th>\n",
       "    </tr>\n",
       "  </thead>\n",
       "  <tbody>\n",
       "    <tr>\n",
       "      <th>EX_cm_e</th>\n",
       "      <td>0.000000</td>\n",
       "      <td>0.000000e+00</td>\n",
       "    </tr>\n",
       "    <tr>\n",
       "      <th>EX_cmp_e</th>\n",
       "      <td>0.000000</td>\n",
       "      <td>-2.999644e-01</td>\n",
       "    </tr>\n",
       "    <tr>\n",
       "      <th>EX_co2_e</th>\n",
       "      <td>17.777514</td>\n",
       "      <td>0.000000e+00</td>\n",
       "    </tr>\n",
       "    <tr>\n",
       "      <th>EX_cobalt2_e</th>\n",
       "      <td>-0.000020</td>\n",
       "      <td>-0.000000e+00</td>\n",
       "    </tr>\n",
       "    <tr>\n",
       "      <th>DM_4crsol_c</th>\n",
       "      <td>0.000182</td>\n",
       "      <td>0.000000e+00</td>\n",
       "    </tr>\n",
       "    <tr>\n",
       "      <th>...</th>\n",
       "      <td>...</td>\n",
       "      <td>...</td>\n",
       "    </tr>\n",
       "    <tr>\n",
       "      <th>RNTR3c2</th>\n",
       "      <td>0.022106</td>\n",
       "      <td>-1.040834e-17</td>\n",
       "    </tr>\n",
       "    <tr>\n",
       "      <th>KDC4</th>\n",
       "      <td>0.000000</td>\n",
       "      <td>-3.349968e-01</td>\n",
       "    </tr>\n",
       "    <tr>\n",
       "      <th>HPAA_ADH</th>\n",
       "      <td>0.000000</td>\n",
       "      <td>-5.204170e-18</td>\n",
       "    </tr>\n",
       "    <tr>\n",
       "      <th>Tyrosolex</th>\n",
       "      <td>0.000000</td>\n",
       "      <td>0.000000e+00</td>\n",
       "    </tr>\n",
       "    <tr>\n",
       "      <th>EX_Tyrosol_e</th>\n",
       "      <td>0.000000</td>\n",
       "      <td>0.000000e+00</td>\n",
       "    </tr>\n",
       "  </tbody>\n",
       "</table>\n",
       "<p>2587 rows × 2 columns</p>\n",
       "</div>"
      ],
      "text/plain": [
       "<Solution 0.818 at 0x159ee351ff0>"
      ]
     },
     "execution_count": 15,
     "metadata": {},
     "output_type": "execute_result"
    }
   ],
   "source": [
    "sols[\"AG\"]"
   ]
  },
  {
   "cell_type": "code",
   "execution_count": 16,
   "metadata": {},
   "outputs": [
    {
     "data": {
      "text/html": [
       "<strong><em>Optimal</em> solution with objective value 0.829</strong><br><div>\n",
       "<style scoped>\n",
       "    .dataframe tbody tr th:only-of-type {\n",
       "        vertical-align: middle;\n",
       "    }\n",
       "\n",
       "    .dataframe tbody tr th {\n",
       "        vertical-align: top;\n",
       "    }\n",
       "\n",
       "    .dataframe thead th {\n",
       "        text-align: right;\n",
       "    }\n",
       "</style>\n",
       "<table border=\"1\" class=\"dataframe\">\n",
       "  <thead>\n",
       "    <tr style=\"text-align: right;\">\n",
       "      <th></th>\n",
       "      <th>fluxes</th>\n",
       "      <th>reduced_costs</th>\n",
       "    </tr>\n",
       "  </thead>\n",
       "  <tbody>\n",
       "    <tr>\n",
       "      <th>ALATA_D2</th>\n",
       "      <td>0.000000</td>\n",
       "      <td>-2.390169e-02</td>\n",
       "    </tr>\n",
       "    <tr>\n",
       "      <th>SHCHD2</th>\n",
       "      <td>0.000185</td>\n",
       "      <td>0.000000e+00</td>\n",
       "    </tr>\n",
       "    <tr>\n",
       "      <th>CPPPGO</th>\n",
       "      <td>0.000185</td>\n",
       "      <td>0.000000e+00</td>\n",
       "    </tr>\n",
       "    <tr>\n",
       "      <th>GTHOr</th>\n",
       "      <td>0.000000</td>\n",
       "      <td>1.110223e-16</td>\n",
       "    </tr>\n",
       "    <tr>\n",
       "      <th>DHORD5</th>\n",
       "      <td>0.000000</td>\n",
       "      <td>-2.081668e-17</td>\n",
       "    </tr>\n",
       "    <tr>\n",
       "      <th>...</th>\n",
       "      <td>...</td>\n",
       "      <td>...</td>\n",
       "    </tr>\n",
       "    <tr>\n",
       "      <th>BIOMASS_Ec_iHK1487_core</th>\n",
       "      <td>0.829430</td>\n",
       "      <td>7.424616e-16</td>\n",
       "    </tr>\n",
       "    <tr>\n",
       "      <th>Tyrosolex</th>\n",
       "      <td>0.000000</td>\n",
       "      <td>-7.066588e-02</td>\n",
       "    </tr>\n",
       "    <tr>\n",
       "      <th>EX_Tyrosol_e</th>\n",
       "      <td>0.000000</td>\n",
       "      <td>0.000000e+00</td>\n",
       "    </tr>\n",
       "    <tr>\n",
       "      <th>SALIDROSIDE_BIOSYNTHESIS</th>\n",
       "      <td>0.000000</td>\n",
       "      <td>0.000000e+00</td>\n",
       "    </tr>\n",
       "    <tr>\n",
       "      <th>EX_Salidroside_e</th>\n",
       "      <td>0.000000</td>\n",
       "      <td>0.000000e+00</td>\n",
       "    </tr>\n",
       "  </tbody>\n",
       "</table>\n",
       "<p>2705 rows × 2 columns</p>\n",
       "</div>"
      ],
      "text/plain": [
       "<Solution 0.829 at 0x159ee353a30>"
      ]
     },
     "execution_count": 16,
     "metadata": {},
     "output_type": "execute_result"
    }
   ],
   "source": [
    "sols[\"GD\"]"
   ]
  },
  {
   "cell_type": "code",
   "execution_count": 17,
   "metadata": {},
   "outputs": [],
   "source": [
    "sols[\"com_0.5\"] = com.cooperative_tradeoff(fraction=0.5,fluxes=True, pfba=True)"
   ]
  },
  {
   "cell_type": "code",
   "execution_count": 18,
   "metadata": {},
   "outputs": [
    {
     "data": {
      "text/html": [
       "<strong>community growth:</strong> 0.911<br><strong>status:</strong> optimal<br><strong>taxa:</strong><div>\n",
       "<style scoped>\n",
       "    .dataframe tbody tr th:only-of-type {\n",
       "        vertical-align: middle;\n",
       "    }\n",
       "\n",
       "    .dataframe tbody tr th {\n",
       "        vertical-align: top;\n",
       "    }\n",
       "\n",
       "    .dataframe thead th {\n",
       "        text-align: right;\n",
       "    }\n",
       "</style>\n",
       "<table border=\"1\" class=\"dataframe\">\n",
       "  <thead>\n",
       "    <tr style=\"text-align: right;\">\n",
       "      <th></th>\n",
       "      <th>abundance</th>\n",
       "      <th>growth_rate</th>\n",
       "      <th>reactions</th>\n",
       "      <th>metabolites</th>\n",
       "    </tr>\n",
       "    <tr>\n",
       "      <th>compartments</th>\n",
       "      <th></th>\n",
       "      <th></th>\n",
       "      <th></th>\n",
       "      <th></th>\n",
       "    </tr>\n",
       "  </thead>\n",
       "  <tbody>\n",
       "    <tr>\n",
       "      <th>AG_uc</th>\n",
       "      <td>0.5</td>\n",
       "      <td>0.908383</td>\n",
       "      <td>2587</td>\n",
       "      <td>1808</td>\n",
       "    </tr>\n",
       "    <tr>\n",
       "      <th>GD_uc</th>\n",
       "      <td>0.5</td>\n",
       "      <td>0.914114</td>\n",
       "      <td>2705</td>\n",
       "      <td>1880</td>\n",
       "    </tr>\n",
       "    <tr>\n",
       "      <th>medium</th>\n",
       "      <td>NaN</td>\n",
       "      <td>NaN</td>\n",
       "      <td>351</td>\n",
       "      <td>351</td>\n",
       "    </tr>\n",
       "  </tbody>\n",
       "</table>\n",
       "</div>"
      ],
      "text/plain": [
       "<CommunitySolution 0.911 at 0x159f3125270>"
      ]
     },
     "execution_count": 18,
     "metadata": {},
     "output_type": "execute_result"
    }
   ],
   "source": [
    "sols[\"com_0.5\"]"
   ]
  },
  {
   "cell_type": "markdown",
   "metadata": {},
   "source": [
    "What's the best way of approching the comparison? \n",
    "\n",
    "Are the predicted community growth rates scaled by abundance? - yes for the community objective..\n",
    "We can constrain the uptake fluxes for the individual models to that observed for the community solution and compare the resulting value of the objective solution. "
   ]
  },
  {
   "cell_type": "code",
   "execution_count": 19,
   "metadata": {},
   "outputs": [
    {
     "data": {
      "text/plain": [
       "reaction\n",
       "EX_o2_e       -17.116641\n",
       "EX_nh4_e      -10.063558\n",
       "EX_dha_e       -6.921983\n",
       "EX_xyl__D_e    -6.623890\n",
       "EX_pi_e        -0.876254\n",
       "                 ...    \n",
       "EX_tyr__L_e     0.126257\n",
       "EX_asn__L_e     0.220352\n",
       "EX_h_e          8.598707\n",
       "EX_co2_e       18.027518\n",
       "EX_h2o_e       42.585043\n",
       "Name: AG_uc, Length: 325, dtype: float64"
      ]
     },
     "execution_count": 19,
     "metadata": {},
     "output_type": "execute_result"
    }
   ],
   "source": [
    "\n",
    "agExch = [i.id for i in AG.exchanges]\n",
    "# grab those reaction fluxes from the community solution\n",
    "x = sols[\"com_0.5\"].fluxes.T\n",
    "x = x[x.index.isin(agExch)].sort_values(by=['AG_uc'], ascending = True)\n",
    "x.AG_uc"
   ]
  },
  {
   "cell_type": "code",
   "execution_count": 20,
   "metadata": {},
   "outputs": [
    {
     "name": "stdout",
     "output_type": "stream",
     "text": [
      "resultant objective function value:  0.9083828680884029\n"
     ]
    }
   ],
   "source": [
    "# set AG exchanges:\n",
    "res = ''\n",
    "with AG as m:\n",
    "    for rxn in m.exchanges:\n",
    "        done = False\n",
    "        for j in range(len(x.AG_uc)):\n",
    "            newbound = x.AG_uc[j]\n",
    "            if x.index[j] == rxn.id:\n",
    "                # print(f\"setting {x.index[j]} to {newbound}\")\n",
    "                rxn.bounds = (newbound, newbound)\n",
    "                done = True\n",
    "        if not done: \n",
    "            print(f\"Unable to set {rxn.id}\")\n",
    "    res = m.slim_optimize()\n",
    "    print(\"resultant objective function value: \" , res)\n",
    "\n"
   ]
  },
  {
   "cell_type": "markdown",
   "metadata": {},
   "source": [
    "At a surface level, the objective functions between individual and community appear to be directly comparible.\n",
    "When the uptake fluxes computed for the consituents were applied to the individual models, effectivly modifying the culture representation, the resulting optimal solutions had the same value as that indicated for in the community model. \n",
    "\n",
    "From this we can observe that, when the cooperative tradeoff parameter is set to '0.5', there is a benefit to growth rates for both consituents, see table {todo}.\n",
    "\n",
    "The tradeoff value can be considered to represent a quantification of the level of cooperation between the consituents.\n",
    "\n",
    "Draft: \n",
    "At low levels the tradeoff will 'artificially' constrain the growth rate of the individual species as the proportion of the communiyt growth rate is too low.\n",
    "\n",
    "At high levels we observe increasing volumes of exchange flux between the consitiuents that benfits both consituents approximately equally, until an inflection at around 96% of the maximum community growth rate when character of the allocation of exchange flux switches sharply to benefitting the AG strain. "
   ]
  },
  {
   "cell_type": "code",
   "execution_count": 21,
   "metadata": {},
   "outputs": [
    {
     "ename": "NameError",
     "evalue": "name 'AG_tmy' is not defined",
     "output_type": "error",
     "traceback": [
      "\u001b[1;31m---------------------------------------------------------------------------\u001b[0m",
      "\u001b[1;31mNameError\u001b[0m                                 Traceback (most recent call last)",
      "\u001b[1;32mc:\\Users\\domin\\Submission\\project\\sections\\community_modeling1\\comparability.ipynb Cell 13\u001b[0m in \u001b[0;36m<cell line: 4>\u001b[1;34m()\u001b[0m\n\u001b[0;32m      <a href='vscode-notebook-cell:/c%3A/Users/domin/Submission/project/sections/community_modeling1/comparability.ipynb#X15sZmlsZQ%3D%3D?line=1'>2</a>\u001b[0m ids \u001b[39m=\u001b[39m [\u001b[39m\"\u001b[39m\u001b[39mAG\u001b[39m\u001b[39m\"\u001b[39m, \u001b[39m\"\u001b[39m\u001b[39mGD\u001b[39m\u001b[39m\"\u001b[39m, \u001b[39m\"\u001b[39m\u001b[39mcom_AG\u001b[39m\u001b[39m\"\u001b[39m, \u001b[39m\"\u001b[39m\u001b[39mcom_GD\u001b[39m\u001b[39m\"\u001b[39m]\n\u001b[0;32m      <a href='vscode-notebook-cell:/c%3A/Users/domin/Submission/project/sections/community_modeling1/comparability.ipynb#X15sZmlsZQ%3D%3D?line=2'>3</a>\u001b[0m grs \u001b[39m=\u001b[39m [sols[\u001b[39m\"\u001b[39m\u001b[39mAG\u001b[39m\u001b[39m\"\u001b[39m]\u001b[39m.\u001b[39mobjective_value, sols[\u001b[39m\"\u001b[39m\u001b[39mGD\u001b[39m\u001b[39m\"\u001b[39m]\u001b[39m.\u001b[39mobjective_value, sols[\u001b[39m\"\u001b[39m\u001b[39mcom_0.5\u001b[39m\u001b[39m\"\u001b[39m]\u001b[39m.\u001b[39mmembers\u001b[39m.\u001b[39mgrowth_rate\u001b[39m.\u001b[39mAG_uc,sols[\u001b[39m\"\u001b[39m\u001b[39mcom_0.5\u001b[39m\u001b[39m\"\u001b[39m]\u001b[39m.\u001b[39mmembers\u001b[39m.\u001b[39mgrowth_rate\u001b[39m.\u001b[39mGD_uc]\n\u001b[1;32m----> <a href='vscode-notebook-cell:/c%3A/Users/domin/Submission/project/sections/community_modeling1/comparability.ipynb#X15sZmlsZQ%3D%3D?line=3'>4</a>\u001b[0m tmy \u001b[39m=\u001b[39m [AG_tmy,GD_tmy,com_tmy_tyrosol[\u001b[39m0\u001b[39m],com_tmy_salidroside[\u001b[39m0\u001b[39m]]\n\u001b[0;32m      <a href='vscode-notebook-cell:/c%3A/Users/domin/Submission/project/sections/community_modeling1/comparability.ipynb#X15sZmlsZQ%3D%3D?line=5'>6</a>\u001b[0m toucan \u001b[39m=\u001b[39m []\n\u001b[0;32m      <a href='vscode-notebook-cell:/c%3A/Users/domin/Submission/project/sections/community_modeling1/comparability.ipynb#X15sZmlsZQ%3D%3D?line=6'>7</a>\u001b[0m \u001b[39mfor\u001b[39;00m i \u001b[39min\u001b[39;00m \u001b[39mrange\u001b[39m(\u001b[39mlen\u001b[39m(ids)):\n",
      "\u001b[1;31mNameError\u001b[0m: name 'AG_tmy' is not defined"
     ]
    }
   ],
   "source": [
    "# Note this also incorporates data from tmy cells below this cell so run those first to get an output.\n",
    "ids = [\"AG\", \"GD\", \"com_AG\", \"com_GD\"]\n",
    "grs = [sols[\"AG\"].objective_value, sols[\"GD\"].objective_value, sols[\"com_0.5\"].members.growth_rate.AG_uc,sols[\"com_0.5\"].members.growth_rate.GD_uc]\n",
    "tmy = [AG_tmy,GD_tmy,com_tmy_tyrosol[0],com_tmy_salidroside[0]]\n",
    "\n",
    "toucan = []\n",
    "for i in range(len(ids)):\n",
    "    tab = {\n",
    "        \"ID\": ids[i],\n",
    "        \"Growth Rate\": round(grs[i],3),\n",
    "        \"Theoretical Maximum Yield\": round(tmy[i],1)\n",
    "    }\n",
    "    toucan.append(tab)\n",
    "\n",
    "import pandas as pd\n",
    "pd.DataFrame(toucan)"
   ]
  },
  {
   "cell_type": "code",
   "execution_count": 22,
   "metadata": {},
   "outputs": [
    {
     "data": {
      "text/plain": [
       "0.9083828680884063"
      ]
     },
     "execution_count": 22,
     "metadata": {},
     "output_type": "execute_result"
    }
   ],
   "source": [
    "temp = sols[\"com_0.5\"]\n",
    "temp.members.growth_rate.AG_uc"
   ]
  },
  {
   "cell_type": "code",
   "execution_count": 23,
   "metadata": {},
   "outputs": [
    {
     "data": {
      "text/plain": [
       "{'AG': <Solution 0.818 at 0x159ee351ff0>,\n",
       " 'GD': <Solution 0.829 at 0x159ee353a30>,\n",
       " 'com_0.5': <CommunitySolution 0.911 at 0x159f3125270>}"
      ]
     },
     "execution_count": 23,
     "metadata": {},
     "output_type": "execute_result"
    }
   ],
   "source": [
    "sols"
   ]
  },
  {
   "cell_type": "markdown",
   "metadata": {},
   "source": [
    "This raises a natural question of the appropriate value to utlise for the trade-off parameter. \n",
    "A value of 0.5 is indicated to produce more accurate results than much lower or higher values so is used here throughout unless specified otherwise.\n",
    "\n",
    "A plot of how the growth rates vary amongst the community (under the default conditions specified in the methods section) as the tradeoff varies is availible below. "
   ]
  },
  {
   "cell_type": "code",
   "execution_count": 179,
   "metadata": {},
   "outputs": [
    {
     "ename": "AttributeError",
     "evalue": "Unable to retrieve attribute 'X'",
     "output_type": "error",
     "traceback": [
      "\u001b[1;31m---------------------------------------------------------------------------\u001b[0m",
      "\u001b[1;31mAttributeError\u001b[0m                            Traceback (most recent call last)",
      "\u001b[1;32mc:\\Users\\domin\\Submission\\project\\sections\\community_modeling1\\comparability.ipynb Cell 17\u001b[0m in \u001b[0;36m<cell line: 5>\u001b[1;34m()\u001b[0m\n\u001b[0;32m      <a href='vscode-notebook-cell:/c%3A/Users/domin/Submission/project/sections/community_modeling1/comparability.ipynb#X22sZmlsZQ%3D%3D?line=0'>1</a>\u001b[0m \u001b[39m# untested, if it does not work, revert to the comment out line below\u001b[39;00m\n\u001b[0;32m      <a href='vscode-notebook-cell:/c%3A/Users/domin/Submission/project/sections/community_modeling1/comparability.ipynb#X22sZmlsZQ%3D%3D?line=1'>2</a>\u001b[0m \u001b[39m# tradeoffscan = com.cooperative_tradeoff(fraction=np.arange(0.1, 1.0001, 0.1),fluxes=False, pfba= True)\u001b[39;00m\n\u001b[0;32m      <a href='vscode-notebook-cell:/c%3A/Users/domin/Submission/project/sections/community_modeling1/comparability.ipynb#X22sZmlsZQ%3D%3D?line=3'>4</a>\u001b[0m tradeoffscan \u001b[39m=\u001b[39m com\u001b[39m.\u001b[39mcooperative_tradeoff(fraction\u001b[39m=\u001b[39mnp\u001b[39m.\u001b[39marange(\u001b[39m0.1\u001b[39m, \u001b[39m0.80001\u001b[39m, \u001b[39m0.1\u001b[39m),fluxes\u001b[39m=\u001b[39m\u001b[39mTrue\u001b[39;00m, pfba\u001b[39m=\u001b[39m \u001b[39mTrue\u001b[39;00m)\n\u001b[1;32m----> <a href='vscode-notebook-cell:/c%3A/Users/domin/Submission/project/sections/community_modeling1/comparability.ipynb#X22sZmlsZQ%3D%3D?line=4'>5</a>\u001b[0m tradeoffscan2 \u001b[39m=\u001b[39m com\u001b[39m.\u001b[39;49mcooperative_tradeoff(fraction\u001b[39m=\u001b[39;49mnp\u001b[39m.\u001b[39;49marange(\u001b[39m0.9\u001b[39;49m, \u001b[39m1.00001\u001b[39;49m, \u001b[39m0.01\u001b[39;49m),fluxes\u001b[39m=\u001b[39;49m\u001b[39mTrue\u001b[39;49;00m, pfba\u001b[39m=\u001b[39;49m \u001b[39mTrue\u001b[39;49;00m)\n\u001b[0;32m      <a href='vscode-notebook-cell:/c%3A/Users/domin/Submission/project/sections/community_modeling1/comparability.ipynb#X22sZmlsZQ%3D%3D?line=6'>7</a>\u001b[0m tradeoffscan\u001b[39m.\u001b[39mconcat(tradeoffscan2,ignore_index\u001b[39m=\u001b[39m\u001b[39mTrue\u001b[39;00m)\n",
      "File \u001b[1;32mc:\\Users\\domin\\Anaconda3\\envs\\gsmm-3\\lib\\site-packages\\micom\\community.py:797\u001b[0m, in \u001b[0;36mCommunity.cooperative_tradeoff\u001b[1;34m(self, min_growth, fraction, fluxes, pfba, atol, rtol)\u001b[0m\n\u001b[0;32m    794\u001b[0m \u001b[39mif\u001b[39;00m rtol \u001b[39mis\u001b[39;00m \u001b[39mNone\u001b[39;00m:\n\u001b[0;32m    795\u001b[0m     rtol \u001b[39m=\u001b[39m \u001b[39mself\u001b[39m\u001b[39m.\u001b[39msolver\u001b[39m.\u001b[39mconfiguration\u001b[39m.\u001b[39mtolerances\u001b[39m.\u001b[39mfeasibility\n\u001b[1;32m--> 797\u001b[0m \u001b[39mreturn\u001b[39;00m cooperative_tradeoff(\n\u001b[0;32m    798\u001b[0m     \u001b[39mself\u001b[39;49m, min_growth, fraction, fluxes, pfba, atol, rtol\n\u001b[0;32m    799\u001b[0m )\n",
      "File \u001b[1;32mc:\\Users\\domin\\Anaconda3\\envs\\gsmm-3\\lib\\site-packages\\micom\\problems.py:93\u001b[0m, in \u001b[0;36mcooperative_tradeoff\u001b[1;34m(community, min_growth, fraction, fluxes, pfba, atol, rtol)\u001b[0m\n\u001b[0;32m     91\u001b[0m com\u001b[39m.\u001b[39mvariables\u001b[39m.\u001b[39mcommunity_objective\u001b[39m.\u001b[39mlb \u001b[39m=\u001b[39m fr \u001b[39m*\u001b[39m min_growth\n\u001b[0;32m     92\u001b[0m com\u001b[39m.\u001b[39mvariables\u001b[39m.\u001b[39mcommunity_objective\u001b[39m.\u001b[39mub \u001b[39m=\u001b[39m min_growth\n\u001b[1;32m---> 93\u001b[0m sol \u001b[39m=\u001b[39m solve(community, fluxes\u001b[39m=\u001b[39;49mfluxes, pfba\u001b[39m=\u001b[39;49mpfba, atol\u001b[39m=\u001b[39;49matol, rtol\u001b[39m=\u001b[39;49mrtol)\n\u001b[0;32m     94\u001b[0m \u001b[39m# OSQP is better with QPs then LPs\u001b[39;00m\n\u001b[0;32m     95\u001b[0m \u001b[39m# so it won't get better with the crossover\u001b[39;00m\n\u001b[0;32m     96\u001b[0m \u001b[39mif\u001b[39;00m \u001b[39mnot\u001b[39;00m pfba \u001b[39mand\u001b[39;00m sol\u001b[39m.\u001b[39mstatus \u001b[39m!=\u001b[39m OPTIMAL \u001b[39mand\u001b[39;00m solver \u001b[39m!=\u001b[39m \u001b[39m\"\u001b[39m\u001b[39mosqp\u001b[39m\u001b[39m\"\u001b[39m:\n",
      "File \u001b[1;32mc:\\Users\\domin\\Anaconda3\\envs\\gsmm-3\\lib\\site-packages\\micom\\solution.py:213\u001b[0m, in \u001b[0;36msolve\u001b[1;34m(community, fluxes, pfba, raise_error, atol, rtol)\u001b[0m\n\u001b[0;32m    211\u001b[0m     community\u001b[39m.\u001b[39msolver\u001b[39m.\u001b[39moptimize()\n\u001b[0;32m    212\u001b[0m \u001b[39mif\u001b[39;00m fluxes:\n\u001b[1;32m--> 213\u001b[0m     sol \u001b[39m=\u001b[39m CommunitySolution(community)\n\u001b[0;32m    214\u001b[0m \u001b[39melse\u001b[39;00m:\n\u001b[0;32m    215\u001b[0m     sol \u001b[39m=\u001b[39m CommunitySolution(community, slim\u001b[39m=\u001b[39m\u001b[39mTrue\u001b[39;00m)\n",
      "File \u001b[1;32mc:\\Users\\domin\\Anaconda3\\envs\\gsmm-3\\lib\\site-packages\\micom\\solution.py:80\u001b[0m, in \u001b[0;36mCommunitySolution.__init__\u001b[1;34m(self, community, slim, reactions, metabolites)\u001b[0m\n\u001b[0;32m     78\u001b[0m mids \u001b[39m=\u001b[39m np\u001b[39m.\u001b[39marray([(m\u001b[39m.\u001b[39mglobal_id, m\u001b[39m.\u001b[39mcommunity_id) \u001b[39mfor\u001b[39;00m m \u001b[39min\u001b[39;00m metabolites])\n\u001b[0;32m     79\u001b[0m \u001b[39mif\u001b[39;00m \u001b[39mnot\u001b[39;00m slim:\n\u001b[1;32m---> 80\u001b[0m     var_primals \u001b[39m=\u001b[39m community\u001b[39m.\u001b[39;49msolver\u001b[39m.\u001b[39;49mprimal_values\n\u001b[0;32m     81\u001b[0m     fluxes \u001b[39m=\u001b[39m pd\u001b[39m.\u001b[39mSeries(\n\u001b[0;32m     82\u001b[0m         [var_primals[r\u001b[39m.\u001b[39mid] \u001b[39m-\u001b[39m var_primals[r\u001b[39m.\u001b[39mreverse_id] \u001b[39mfor\u001b[39;00m r \u001b[39min\u001b[39;00m reactions],\n\u001b[0;32m     83\u001b[0m         name\u001b[39m=\u001b[39m\u001b[39m\"\u001b[39m\u001b[39mfluxes\u001b[39m\u001b[39m\"\u001b[39m,\n\u001b[0;32m     84\u001b[0m     )\n\u001b[0;32m     85\u001b[0m     \u001b[39msuper\u001b[39m(CommunitySolution, \u001b[39mself\u001b[39m)\u001b[39m.\u001b[39m\u001b[39m__init__\u001b[39m(\n\u001b[0;32m     86\u001b[0m         community\u001b[39m.\u001b[39msolver\u001b[39m.\u001b[39mobjective\u001b[39m.\u001b[39mvalue,\n\u001b[0;32m     87\u001b[0m         community\u001b[39m.\u001b[39msolver\u001b[39m.\u001b[39mstatus,\n\u001b[1;32m   (...)\u001b[0m\n\u001b[0;32m     90\u001b[0m         \u001b[39mNone\u001b[39;00m,\n\u001b[0;32m     91\u001b[0m     )\n",
      "File \u001b[1;32mc:\\Users\\domin\\Anaconda3\\envs\\gsmm-3\\lib\\site-packages\\optlang\\interface.py:1282\u001b[0m, in \u001b[0;36mModel.primal_values\u001b[1;34m(self)\u001b[0m\n\u001b[0;32m   1272\u001b[0m \u001b[39m@property\u001b[39m\n\u001b[0;32m   1273\u001b[0m \u001b[39mdef\u001b[39;00m \u001b[39mprimal_values\u001b[39m(\u001b[39mself\u001b[39m):\n\u001b[0;32m   1274\u001b[0m     \u001b[39m\"\"\"The primal values of model variables.\u001b[39;00m\n\u001b[0;32m   1275\u001b[0m \n\u001b[0;32m   1276\u001b[0m \u001b[39m    The primal values are rounded to the bounds.\u001b[39;00m\n\u001b[1;32m   (...)\u001b[0m\n\u001b[0;32m   1279\u001b[0m \u001b[39m    collections.OrderedDict\u001b[39;00m\n\u001b[0;32m   1280\u001b[0m \u001b[39m    \"\"\"\u001b[39;00m\n\u001b[0;32m   1281\u001b[0m     \u001b[39mreturn\u001b[39;00m OrderedDict(\n\u001b[1;32m-> 1282\u001b[0m         \u001b[39mzip\u001b[39m(\u001b[39mself\u001b[39m\u001b[39m.\u001b[39m_get_variables_names(), \u001b[39mself\u001b[39;49m\u001b[39m.\u001b[39;49m_get_primal_values())\n\u001b[0;32m   1283\u001b[0m     )\n",
      "File \u001b[1;32mc:\\Users\\domin\\Anaconda3\\envs\\gsmm-3\\lib\\site-packages\\optlang\\interface.py:1293\u001b[0m, in \u001b[0;36mModel._get_primal_values\u001b[1;34m(self)\u001b[0m\n\u001b[0;32m   1286\u001b[0m \u001b[39m\"\"\"The primal values of model variables.\u001b[39;00m\n\u001b[0;32m   1287\u001b[0m \n\u001b[0;32m   1288\u001b[0m \u001b[39mReturns\u001b[39;00m\n\u001b[0;32m   1289\u001b[0m \u001b[39m-------\u001b[39;00m\n\u001b[0;32m   1290\u001b[0m \u001b[39mlist\u001b[39;00m\n\u001b[0;32m   1291\u001b[0m \u001b[39m\"\"\"\u001b[39;00m\n\u001b[0;32m   1292\u001b[0m \u001b[39m# Fallback, if nothing faster is available\u001b[39;00m\n\u001b[1;32m-> 1293\u001b[0m \u001b[39mreturn\u001b[39;00m [variable\u001b[39m.\u001b[39mprimal \u001b[39mfor\u001b[39;00m variable \u001b[39min\u001b[39;00m \u001b[39mself\u001b[39m\u001b[39m.\u001b[39mvariables]\n",
      "File \u001b[1;32mc:\\Users\\domin\\Anaconda3\\envs\\gsmm-3\\lib\\site-packages\\optlang\\interface.py:1293\u001b[0m, in \u001b[0;36m<listcomp>\u001b[1;34m(.0)\u001b[0m\n\u001b[0;32m   1286\u001b[0m \u001b[39m\"\"\"The primal values of model variables.\u001b[39;00m\n\u001b[0;32m   1287\u001b[0m \n\u001b[0;32m   1288\u001b[0m \u001b[39mReturns\u001b[39;00m\n\u001b[0;32m   1289\u001b[0m \u001b[39m-------\u001b[39;00m\n\u001b[0;32m   1290\u001b[0m \u001b[39mlist\u001b[39;00m\n\u001b[0;32m   1291\u001b[0m \u001b[39m\"\"\"\u001b[39;00m\n\u001b[0;32m   1292\u001b[0m \u001b[39m# Fallback, if nothing faster is available\u001b[39;00m\n\u001b[1;32m-> 1293\u001b[0m \u001b[39mreturn\u001b[39;00m [variable\u001b[39m.\u001b[39;49mprimal \u001b[39mfor\u001b[39;00m variable \u001b[39min\u001b[39;00m \u001b[39mself\u001b[39m\u001b[39m.\u001b[39mvariables]\n",
      "File \u001b[1;32mc:\\Users\\domin\\Anaconda3\\envs\\gsmm-3\\lib\\site-packages\\optlang\\interface.py:280\u001b[0m, in \u001b[0;36mVariable.primal\u001b[1;34m(self)\u001b[0m\n\u001b[0;32m    278\u001b[0m \u001b[39m\"\"\"The primal of variable (None if no solution exists).\"\"\"\u001b[39;00m\n\u001b[0;32m    279\u001b[0m \u001b[39mif\u001b[39;00m \u001b[39mself\u001b[39m\u001b[39m.\u001b[39mproblem:\n\u001b[1;32m--> 280\u001b[0m     \u001b[39mreturn\u001b[39;00m \u001b[39mself\u001b[39;49m\u001b[39m.\u001b[39;49m_get_primal()\n\u001b[0;32m    281\u001b[0m \u001b[39melse\u001b[39;00m:\n\u001b[0;32m    282\u001b[0m     \u001b[39mreturn\u001b[39;00m \u001b[39mNone\u001b[39;00m\n",
      "File \u001b[1;32mc:\\Users\\domin\\Anaconda3\\envs\\gsmm-3\\lib\\site-packages\\optlang\\gurobi_interface.py:158\u001b[0m, in \u001b[0;36mVariable._get_primal\u001b[1;34m(self)\u001b[0m\n\u001b[0;32m    157\u001b[0m \u001b[39mdef\u001b[39;00m \u001b[39m_get_primal\u001b[39m(\u001b[39mself\u001b[39m):\n\u001b[1;32m--> 158\u001b[0m     \u001b[39mreturn\u001b[39;00m \u001b[39mself\u001b[39;49m\u001b[39m.\u001b[39;49m_internal_variable\u001b[39m.\u001b[39;49mgetAttr(\u001b[39m'\u001b[39;49m\u001b[39mX\u001b[39;49m\u001b[39m'\u001b[39;49m)\n",
      "File \u001b[1;32msrc\\gurobipy\\var.pxi:153\u001b[0m, in \u001b[0;36mgurobipy.Var.getAttr\u001b[1;34m()\u001b[0m\n",
      "File \u001b[1;32msrc\\gurobipy\\attrutil.pxi:100\u001b[0m, in \u001b[0;36mgurobipy.__getattr\u001b[1;34m()\u001b[0m\n",
      "\u001b[1;31mAttributeError\u001b[0m: Unable to retrieve attribute 'X'"
     ]
    }
   ],
   "source": [
    "# untested, if it does not work, revert to the comment out line below\n",
    "# tradeoffscan = com.cooperative_tradeoff(fraction=np.arange(0.1, 1.0001, 0.1),fluxes=False, pfba= True)\n",
    "\n",
    "tradeoffscan = com.cooperative_tradeoff(fraction=np.arange(0.1, 0.80001, 0.1),fluxes=True, pfba= True)\n",
    "tradeoffscan2 = com.cooperative_tradeoff(fraction=np.arange(0.9, 1.00001, 0.01),fluxes=True, pfba= True)\n",
    "\n",
    "tradeoffscan.concat(tradeoffscan2,ignore_index=True)\n"
   ]
  },
  {
   "cell_type": "code",
   "execution_count": null,
   "metadata": {},
   "outputs": [
    {
     "data": {
      "text/html": [
       "<div>\n",
       "<style scoped>\n",
       "    .dataframe tbody tr th:only-of-type {\n",
       "        vertical-align: middle;\n",
       "    }\n",
       "\n",
       "    .dataframe tbody tr th {\n",
       "        vertical-align: top;\n",
       "    }\n",
       "\n",
       "    .dataframe thead th {\n",
       "        text-align: right;\n",
       "    }\n",
       "</style>\n",
       "<table border=\"1\" class=\"dataframe\">\n",
       "  <thead>\n",
       "    <tr style=\"text-align: right;\">\n",
       "      <th></th>\n",
       "      <th>tradeoff</th>\n",
       "      <th>solution</th>\n",
       "    </tr>\n",
       "  </thead>\n",
       "  <tbody>\n",
       "    <tr>\n",
       "      <th>0</th>\n",
       "      <td>1.0</td>\n",
       "      <td>&lt;CommunitySolution 1.822 at 0x242ec67bd90&gt;</td>\n",
       "    </tr>\n",
       "    <tr>\n",
       "      <th>1</th>\n",
       "      <td>0.9</td>\n",
       "      <td>&lt;CommunitySolution 1.640 at 0x242ec563fa0&gt;</td>\n",
       "    </tr>\n",
       "    <tr>\n",
       "      <th>2</th>\n",
       "      <td>0.8</td>\n",
       "      <td>&lt;CommunitySolution 1.458 at 0x242c1735000&gt;</td>\n",
       "    </tr>\n",
       "    <tr>\n",
       "      <th>3</th>\n",
       "      <td>0.7</td>\n",
       "      <td>&lt;CommunitySolution 1.276 at 0x242d8017190&gt;</td>\n",
       "    </tr>\n",
       "    <tr>\n",
       "      <th>4</th>\n",
       "      <td>0.6</td>\n",
       "      <td>&lt;CommunitySolution 1.093 at 0x242d8016c20&gt;</td>\n",
       "    </tr>\n",
       "    <tr>\n",
       "      <th>5</th>\n",
       "      <td>0.5</td>\n",
       "      <td>&lt;CommunitySolution 0.911 at 0x242eb5db7c0&gt;</td>\n",
       "    </tr>\n",
       "    <tr>\n",
       "      <th>6</th>\n",
       "      <td>0.4</td>\n",
       "      <td>&lt;CommunitySolution 0.729 at 0x242eb5d9660&gt;</td>\n",
       "    </tr>\n",
       "    <tr>\n",
       "      <th>7</th>\n",
       "      <td>0.3</td>\n",
       "      <td>&lt;CommunitySolution 0.547 at 0x242ebaffbb0&gt;</td>\n",
       "    </tr>\n",
       "    <tr>\n",
       "      <th>8</th>\n",
       "      <td>0.2</td>\n",
       "      <td>&lt;CommunitySolution 0.364 at 0x242ec59a920&gt;</td>\n",
       "    </tr>\n",
       "    <tr>\n",
       "      <th>9</th>\n",
       "      <td>0.1</td>\n",
       "      <td>&lt;CommunitySolution 0.182 at 0x242eb5c45b0&gt;</td>\n",
       "    </tr>\n",
       "  </tbody>\n",
       "</table>\n",
       "</div>"
      ],
      "text/plain": [
       "   tradeoff                                    solution\n",
       "0       1.0  <CommunitySolution 1.822 at 0x242ec67bd90>\n",
       "1       0.9  <CommunitySolution 1.640 at 0x242ec563fa0>\n",
       "2       0.8  <CommunitySolution 1.458 at 0x242c1735000>\n",
       "3       0.7  <CommunitySolution 1.276 at 0x242d8017190>\n",
       "4       0.6  <CommunitySolution 1.093 at 0x242d8016c20>\n",
       "5       0.5  <CommunitySolution 0.911 at 0x242eb5db7c0>\n",
       "6       0.4  <CommunitySolution 0.729 at 0x242eb5d9660>\n",
       "7       0.3  <CommunitySolution 0.547 at 0x242ebaffbb0>\n",
       "8       0.2  <CommunitySolution 0.364 at 0x242ec59a920>\n",
       "9       0.1  <CommunitySolution 0.182 at 0x242eb5c45b0>"
      ]
     },
     "execution_count": 37,
     "metadata": {},
     "output_type": "execute_result"
    }
   ],
   "source": [
    "tradeoffscan"
   ]
  },
  {
   "cell_type": "code",
   "execution_count": null,
   "metadata": {},
   "outputs": [],
   "source": [
    "# Prep for graph\n",
    "temp = tradeoffscan._get_value(i,\"solution\")\n",
    "\n",
    "trOff = [round(i,1) for i in tradeoffscan.tradeoff.to_list()]\n",
    "trOff.reverse()\n",
    "trOff\n",
    "\n",
    "comGR = []\n",
    "comAG = []\n",
    "comGD = []\n",
    "\n",
    "for i in range(9,-1,-1):\n",
    "    temp = tradeoffscan._get_value(i,\"solution\")\n",
    "    comGR.append(temp.growth_rate)\n",
    "    comAG.append(temp.members.growth_rate.AG_uc)\n",
    "    comGD.append(temp.members.growth_rate.GD_uc)\n",
    "    \n"
   ]
  },
  {
   "cell_type": "code",
   "execution_count": null,
   "metadata": {},
   "outputs": [
    {
     "data": {
      "image/png": "[encoded data removed]",
      "text/plain": [
       "<Figure size 432x288 with 1 Axes>"
      ]
     },
     "metadata": {
      "needs_background": "light"
     },
     "output_type": "display_data"
    },
    {
     "data": {
      "text/plain": [
       "<Figure size 4000x4000 with 0 Axes>"
      ]
     },
     "metadata": {},
     "output_type": "display_data"
    }
   ],
   "source": [
    "import matplotlib as mp\n",
    "import matplotlib.pyplot as plt\n",
    "\n",
    "save_output = True\n",
    "fig,ax = plt.subplots()\n",
    "\n",
    "plt.figure(figsize=(20,20), dpi=200)\n",
    "ax.plot(trOff,comAG, label=\"AG\",linestyle = \":\")\n",
    "ax.plot(trOff,comGD, label=\"GD\",linestyle = \":\")\n",
    "ax.plot(trOff,comGR, label=\"com\",linestyle = \":\")\n",
    "\n",
    "\n",
    "# ax.plot(tradeoffscan[\"fraction\"],tradeoffscan[\"GD_uc\"],label=\"GD uc\",linestyle = \":\")\n",
    "# ax.plot(tradeoffscan[\"fraction\"], [i.growth_rate for i in sols.solution.values],label=\"Com\",linestyle = \"-.\")\n",
    "\n",
    "ax.set_title(\"Effect of Tradeoff Value on Growth Rates\")\n",
    "ax.set_xlabel(\"Cooperative Tradeoff Value\")\n",
    "ax.set_ylabel(\"Consitiuent Growth Rate\")\n",
    "ax.legend()\n",
    "if save_output:\n",
    "        fig.savefig(f\"C:/Users/domin/Masters-Thesis---Draft-1/images/Micom_Tests/tradeoffscan.pdf\", bbox_inches = 'tight',pad_inches=0.2)\n",
    "    "
   ]
  },
  {
   "cell_type": "markdown",
   "metadata": {},
   "source": [
    "Another point of interest is the maximum yield available in community vs individually.\n",
    "Is it meaningful to apply a maximum theoretical yield optimisation to a community? lets find out!"
   ]
  },
  {
   "cell_type": "code",
   "execution_count": 38,
   "metadata": {},
   "outputs": [
    {
     "data": {
      "text/plain": [
       "<module 'utils' from 'C:\\\\Users\\\\domin\\\\Submission\\\\project\\\\utils\\\\utils.py'>"
      ]
     },
     "execution_count": 38,
     "metadata": {},
     "output_type": "execute_result"
    }
   ],
   "source": [
    "import importlib\n",
    "import utils\n",
    "importlib.reload(utils)"
   ]
  },
  {
   "cell_type": "code",
   "execution_count": 39,
   "metadata": {},
   "outputs": [
    {
     "data": {
      "text/html": [
       "<pre style=\"white-space:pre;overflow-x:auto;line-height:normal;font-family:Menlo,'DejaVu Sans Mono',consolas,'Courier New',monospace\"><span style=\"color: #7fbfbf; text-decoration-color: #7fbfbf\">[12:06:08] </span><span style=\"color: #800000; text-decoration-color: #800000\">WARNING </span> `optimize_all` is deprecated and will be removed soon :<span style=\"font-weight: bold\">(</span>                       <a href=\"file://c:\\Users\\domin\\Anaconda3\\envs\\gsmm-3\\lib\\site-packages\\micom\\community.py\" target=\"_blank\"><span style=\"color: #7f7f7f; text-decoration-color: #7f7f7f\">community.py</span></a><span style=\"color: #7f7f7f; text-decoration-color: #7f7f7f\">:</span><a href=\"file://c:\\Users\\domin\\Anaconda3\\envs\\gsmm-3\\lib\\site-packages\\micom\\community.py#485\" target=\"_blank\"><span style=\"color: #7f7f7f; text-decoration-color: #7f7f7f\">485</span></a>\n",
       "</pre>\n"
      ],
      "text/plain": [
       "\u001b[2;36m[12:06:08]\u001b[0m\u001b[2;36m \u001b[0m\u001b[31mWARNING \u001b[0m `optimize_all` is deprecated and will be removed soon :\u001b[1m(\u001b[0m                       \u001b]8;id=836202;file://c:\\Users\\domin\\Anaconda3\\envs\\gsmm-3\\lib\\site-packages\\micom\\community.py\u001b\\\u001b[2mcommunity.py\u001b[0m\u001b]8;;\u001b\\\u001b[2m:\u001b[0m\u001b]8;id=288729;file://c:\\Users\\domin\\Anaconda3\\envs\\gsmm-3\\lib\\site-packages\\micom\\community.py#485\u001b\\\u001b[2m485\u001b[0m\u001b]8;;\u001b\\\n"
      ]
     },
     "metadata": {},
     "output_type": "display_data"
    },
    {
     "data": {
      "text/html": [
       "<pre style=\"white-space:pre;overflow-x:auto;line-height:normal;font-family:Menlo,'DejaVu Sans Mono',consolas,'Courier New',monospace\"><span style=\"color: #7fbfbf; text-decoration-color: #7fbfbf\">           </span><span style=\"color: #800000; text-decoration-color: #800000\">WARNING </span> `optimize_single` is deprecated and will be removed soon :<span style=\"font-weight: bold\">(</span>                    <a href=\"file://c:\\Users\\domin\\Anaconda3\\envs\\gsmm-3\\lib\\site-packages\\micom\\community.py\" target=\"_blank\"><span style=\"color: #7f7f7f; text-decoration-color: #7f7f7f\">community.py</span></a><span style=\"color: #7f7f7f; text-decoration-color: #7f7f7f\">:</span><a href=\"file://c:\\Users\\domin\\Anaconda3\\envs\\gsmm-3\\lib\\site-packages\\micom\\community.py#446\" target=\"_blank\"><span style=\"color: #7f7f7f; text-decoration-color: #7f7f7f\">446</span></a>\n",
       "</pre>\n"
      ],
      "text/plain": [
       "\u001b[2;36m          \u001b[0m\u001b[2;36m \u001b[0m\u001b[31mWARNING \u001b[0m `optimize_single` is deprecated and will be removed soon :\u001b[1m(\u001b[0m                    \u001b]8;id=534119;file://c:\\Users\\domin\\Anaconda3\\envs\\gsmm-3\\lib\\site-packages\\micom\\community.py\u001b\\\u001b[2mcommunity.py\u001b[0m\u001b]8;;\u001b\\\u001b[2m:\u001b[0m\u001b]8;id=626204;file://c:\\Users\\domin\\Anaconda3\\envs\\gsmm-3\\lib\\site-packages\\micom\\community.py#446\u001b\\\u001b[2m446\u001b[0m\u001b]8;;\u001b\\\n"
      ]
     },
     "metadata": {},
     "output_type": "display_data"
    },
    {
     "data": {
      "text/html": [
       "<pre style=\"white-space:pre;overflow-x:auto;line-height:normal;font-family:Menlo,'DejaVu Sans Mono',consolas,'Courier New',monospace\"><span style=\"color: #7fbfbf; text-decoration-color: #7fbfbf\">[12:06:09] </span><span style=\"color: #800000; text-decoration-color: #800000\">WARNING </span> `optimize_single` is deprecated and will be removed soon :<span style=\"font-weight: bold\">(</span>                    <a href=\"file://c:\\Users\\domin\\Anaconda3\\envs\\gsmm-3\\lib\\site-packages\\micom\\community.py\" target=\"_blank\"><span style=\"color: #7f7f7f; text-decoration-color: #7f7f7f\">community.py</span></a><span style=\"color: #7f7f7f; text-decoration-color: #7f7f7f\">:</span><a href=\"file://c:\\Users\\domin\\Anaconda3\\envs\\gsmm-3\\lib\\site-packages\\micom\\community.py#446\" target=\"_blank\"><span style=\"color: #7f7f7f; text-decoration-color: #7f7f7f\">446</span></a>\n",
       "</pre>\n"
      ],
      "text/plain": [
       "\u001b[2;36m[12:06:09]\u001b[0m\u001b[2;36m \u001b[0m\u001b[31mWARNING \u001b[0m `optimize_single` is deprecated and will be removed soon :\u001b[1m(\u001b[0m                    \u001b]8;id=431459;file://c:\\Users\\domin\\Anaconda3\\envs\\gsmm-3\\lib\\site-packages\\micom\\community.py\u001b\\\u001b[2mcommunity.py\u001b[0m\u001b]8;;\u001b\\\u001b[2m:\u001b[0m\u001b]8;id=790110;file://c:\\Users\\domin\\Anaconda3\\envs\\gsmm-3\\lib\\site-packages\\micom\\community.py#446\u001b\\\u001b[2m446\u001b[0m\u001b]8;;\u001b\\\n"
      ]
     },
     "metadata": {},
     "output_type": "display_data"
    },
    {
     "data": {
      "text/html": [
       "<pre style=\"white-space:pre;overflow-x:auto;line-height:normal;font-family:Menlo,'DejaVu Sans Mono',consolas,'Courier New',monospace\"><span style=\"color: #7fbfbf; text-decoration-color: #7fbfbf\">[12:06:10] </span><span style=\"color: #800000; text-decoration-color: #800000\">WARNING </span> `optimize_all` is deprecated and will be removed soon :<span style=\"font-weight: bold\">(</span>                       <a href=\"file://c:\\Users\\domin\\Anaconda3\\envs\\gsmm-3\\lib\\site-packages\\micom\\community.py\" target=\"_blank\"><span style=\"color: #7f7f7f; text-decoration-color: #7f7f7f\">community.py</span></a><span style=\"color: #7f7f7f; text-decoration-color: #7f7f7f\">:</span><a href=\"file://c:\\Users\\domin\\Anaconda3\\envs\\gsmm-3\\lib\\site-packages\\micom\\community.py#485\" target=\"_blank\"><span style=\"color: #7f7f7f; text-decoration-color: #7f7f7f\">485</span></a>\n",
       "</pre>\n"
      ],
      "text/plain": [
       "\u001b[2;36m[12:06:10]\u001b[0m\u001b[2;36m \u001b[0m\u001b[31mWARNING \u001b[0m `optimize_all` is deprecated and will be removed soon :\u001b[1m(\u001b[0m                       \u001b]8;id=588831;file://c:\\Users\\domin\\Anaconda3\\envs\\gsmm-3\\lib\\site-packages\\micom\\community.py\u001b\\\u001b[2mcommunity.py\u001b[0m\u001b]8;;\u001b\\\u001b[2m:\u001b[0m\u001b]8;id=170556;file://c:\\Users\\domin\\Anaconda3\\envs\\gsmm-3\\lib\\site-packages\\micom\\community.py#485\u001b\\\u001b[2m485\u001b[0m\u001b]8;;\u001b\\\n"
      ]
     },
     "metadata": {},
     "output_type": "display_data"
    },
    {
     "data": {
      "text/html": [
       "<pre style=\"white-space:pre;overflow-x:auto;line-height:normal;font-family:Menlo,'DejaVu Sans Mono',consolas,'Courier New',monospace\"><span style=\"color: #7fbfbf; text-decoration-color: #7fbfbf\">           </span><span style=\"color: #800000; text-decoration-color: #800000\">WARNING </span> `optimize_single` is deprecated and will be removed soon :<span style=\"font-weight: bold\">(</span>                    <a href=\"file://c:\\Users\\domin\\Anaconda3\\envs\\gsmm-3\\lib\\site-packages\\micom\\community.py\" target=\"_blank\"><span style=\"color: #7f7f7f; text-decoration-color: #7f7f7f\">community.py</span></a><span style=\"color: #7f7f7f; text-decoration-color: #7f7f7f\">:</span><a href=\"file://c:\\Users\\domin\\Anaconda3\\envs\\gsmm-3\\lib\\site-packages\\micom\\community.py#446\" target=\"_blank\"><span style=\"color: #7f7f7f; text-decoration-color: #7f7f7f\">446</span></a>\n",
       "</pre>\n"
      ],
      "text/plain": [
       "\u001b[2;36m          \u001b[0m\u001b[2;36m \u001b[0m\u001b[31mWARNING \u001b[0m `optimize_single` is deprecated and will be removed soon :\u001b[1m(\u001b[0m                    \u001b]8;id=430280;file://c:\\Users\\domin\\Anaconda3\\envs\\gsmm-3\\lib\\site-packages\\micom\\community.py\u001b\\\u001b[2mcommunity.py\u001b[0m\u001b]8;;\u001b\\\u001b[2m:\u001b[0m\u001b]8;id=46833;file://c:\\Users\\domin\\Anaconda3\\envs\\gsmm-3\\lib\\site-packages\\micom\\community.py#446\u001b\\\u001b[2m446\u001b[0m\u001b]8;;\u001b\\\n"
      ]
     },
     "metadata": {},
     "output_type": "display_data"
    },
    {
     "data": {
      "text/html": [
       "<pre style=\"white-space:pre;overflow-x:auto;line-height:normal;font-family:Menlo,'DejaVu Sans Mono',consolas,'Courier New',monospace\"><span style=\"color: #7fbfbf; text-decoration-color: #7fbfbf\">[12:06:11] </span><span style=\"color: #800000; text-decoration-color: #800000\">WARNING </span> `optimize_single` is deprecated and will be removed soon :<span style=\"font-weight: bold\">(</span>                    <a href=\"file://c:\\Users\\domin\\Anaconda3\\envs\\gsmm-3\\lib\\site-packages\\micom\\community.py\" target=\"_blank\"><span style=\"color: #7f7f7f; text-decoration-color: #7f7f7f\">community.py</span></a><span style=\"color: #7f7f7f; text-decoration-color: #7f7f7f\">:</span><a href=\"file://c:\\Users\\domin\\Anaconda3\\envs\\gsmm-3\\lib\\site-packages\\micom\\community.py#446\" target=\"_blank\"><span style=\"color: #7f7f7f; text-decoration-color: #7f7f7f\">446</span></a>\n",
       "</pre>\n"
      ],
      "text/plain": [
       "\u001b[2;36m[12:06:11]\u001b[0m\u001b[2;36m \u001b[0m\u001b[31mWARNING \u001b[0m `optimize_single` is deprecated and will be removed soon :\u001b[1m(\u001b[0m                    \u001b]8;id=364763;file://c:\\Users\\domin\\Anaconda3\\envs\\gsmm-3\\lib\\site-packages\\micom\\community.py\u001b\\\u001b[2mcommunity.py\u001b[0m\u001b]8;;\u001b\\\u001b[2m:\u001b[0m\u001b]8;id=332382;file://c:\\Users\\domin\\Anaconda3\\envs\\gsmm-3\\lib\\site-packages\\micom\\community.py#446\u001b\\\u001b[2m446\u001b[0m\u001b]8;;\u001b\\\n"
      ]
     },
     "metadata": {},
     "output_type": "display_data"
    },
    {
     "data": {
      "text/html": [
       "<pre style=\"white-space:pre;overflow-x:auto;line-height:normal;font-family:Menlo,'DejaVu Sans Mono',consolas,'Courier New',monospace\"><span style=\"color: #7fbfbf; text-decoration-color: #7fbfbf\">[12:06:14] </span><span style=\"color: #800000; text-decoration-color: #800000\">WARNING </span> `optimize_all` is deprecated and will be removed soon :<span style=\"font-weight: bold\">(</span>                       <a href=\"file://c:\\Users\\domin\\Anaconda3\\envs\\gsmm-3\\lib\\site-packages\\micom\\community.py\" target=\"_blank\"><span style=\"color: #7f7f7f; text-decoration-color: #7f7f7f\">community.py</span></a><span style=\"color: #7f7f7f; text-decoration-color: #7f7f7f\">:</span><a href=\"file://c:\\Users\\domin\\Anaconda3\\envs\\gsmm-3\\lib\\site-packages\\micom\\community.py#485\" target=\"_blank\"><span style=\"color: #7f7f7f; text-decoration-color: #7f7f7f\">485</span></a>\n",
       "</pre>\n"
      ],
      "text/plain": [
       "\u001b[2;36m[12:06:14]\u001b[0m\u001b[2;36m \u001b[0m\u001b[31mWARNING \u001b[0m `optimize_all` is deprecated and will be removed soon :\u001b[1m(\u001b[0m                       \u001b]8;id=676284;file://c:\\Users\\domin\\Anaconda3\\envs\\gsmm-3\\lib\\site-packages\\micom\\community.py\u001b\\\u001b[2mcommunity.py\u001b[0m\u001b]8;;\u001b\\\u001b[2m:\u001b[0m\u001b]8;id=121121;file://c:\\Users\\domin\\Anaconda3\\envs\\gsmm-3\\lib\\site-packages\\micom\\community.py#485\u001b\\\u001b[2m485\u001b[0m\u001b]8;;\u001b\\\n"
      ]
     },
     "metadata": {},
     "output_type": "display_data"
    },
    {
     "data": {
      "text/html": [
       "<pre style=\"white-space:pre;overflow-x:auto;line-height:normal;font-family:Menlo,'DejaVu Sans Mono',consolas,'Courier New',monospace\"><span style=\"color: #7fbfbf; text-decoration-color: #7fbfbf\">           </span><span style=\"color: #800000; text-decoration-color: #800000\">WARNING </span> `optimize_single` is deprecated and will be removed soon :<span style=\"font-weight: bold\">(</span>                    <a href=\"file://c:\\Users\\domin\\Anaconda3\\envs\\gsmm-3\\lib\\site-packages\\micom\\community.py\" target=\"_blank\"><span style=\"color: #7f7f7f; text-decoration-color: #7f7f7f\">community.py</span></a><span style=\"color: #7f7f7f; text-decoration-color: #7f7f7f\">:</span><a href=\"file://c:\\Users\\domin\\Anaconda3\\envs\\gsmm-3\\lib\\site-packages\\micom\\community.py#446\" target=\"_blank\"><span style=\"color: #7f7f7f; text-decoration-color: #7f7f7f\">446</span></a>\n",
       "</pre>\n"
      ],
      "text/plain": [
       "\u001b[2;36m          \u001b[0m\u001b[2;36m \u001b[0m\u001b[31mWARNING \u001b[0m `optimize_single` is deprecated and will be removed soon :\u001b[1m(\u001b[0m                    \u001b]8;id=36017;file://c:\\Users\\domin\\Anaconda3\\envs\\gsmm-3\\lib\\site-packages\\micom\\community.py\u001b\\\u001b[2mcommunity.py\u001b[0m\u001b]8;;\u001b\\\u001b[2m:\u001b[0m\u001b]8;id=179865;file://c:\\Users\\domin\\Anaconda3\\envs\\gsmm-3\\lib\\site-packages\\micom\\community.py#446\u001b\\\u001b[2m446\u001b[0m\u001b]8;;\u001b\\\n"
      ]
     },
     "metadata": {},
     "output_type": "display_data"
    },
    {
     "data": {
      "text/html": [
       "<pre style=\"white-space:pre;overflow-x:auto;line-height:normal;font-family:Menlo,'DejaVu Sans Mono',consolas,'Courier New',monospace\"><span style=\"color: #7fbfbf; text-decoration-color: #7fbfbf\">           </span><span style=\"color: #800000; text-decoration-color: #800000\">WARNING </span> `optimize_single` is deprecated and will be removed soon :<span style=\"font-weight: bold\">(</span>                    <a href=\"file://c:\\Users\\domin\\Anaconda3\\envs\\gsmm-3\\lib\\site-packages\\micom\\community.py\" target=\"_blank\"><span style=\"color: #7f7f7f; text-decoration-color: #7f7f7f\">community.py</span></a><span style=\"color: #7f7f7f; text-decoration-color: #7f7f7f\">:</span><a href=\"file://c:\\Users\\domin\\Anaconda3\\envs\\gsmm-3\\lib\\site-packages\\micom\\community.py#446\" target=\"_blank\"><span style=\"color: #7f7f7f; text-decoration-color: #7f7f7f\">446</span></a>\n",
       "</pre>\n"
      ],
      "text/plain": [
       "\u001b[2;36m          \u001b[0m\u001b[2;36m \u001b[0m\u001b[31mWARNING \u001b[0m `optimize_single` is deprecated and will be removed soon :\u001b[1m(\u001b[0m                    \u001b]8;id=433554;file://c:\\Users\\domin\\Anaconda3\\envs\\gsmm-3\\lib\\site-packages\\micom\\community.py\u001b\\\u001b[2mcommunity.py\u001b[0m\u001b]8;;\u001b\\\u001b[2m:\u001b[0m\u001b]8;id=367596;file://c:\\Users\\domin\\Anaconda3\\envs\\gsmm-3\\lib\\site-packages\\micom\\community.py#446\u001b\\\u001b[2m446\u001b[0m\u001b]8;;\u001b\\\n"
      ]
     },
     "metadata": {},
     "output_type": "display_data"
    },
    {
     "data": {
      "text/html": [
       "<pre style=\"white-space:pre;overflow-x:auto;line-height:normal;font-family:Menlo,'DejaVu Sans Mono',consolas,'Courier New',monospace\"><span style=\"color: #7fbfbf; text-decoration-color: #7fbfbf\">[12:06:15] </span><span style=\"color: #800000; text-decoration-color: #800000\">WARNING </span> `optimize_all` is deprecated and will be removed soon :<span style=\"font-weight: bold\">(</span>                       <a href=\"file://c:\\Users\\domin\\Anaconda3\\envs\\gsmm-3\\lib\\site-packages\\micom\\community.py\" target=\"_blank\"><span style=\"color: #7f7f7f; text-decoration-color: #7f7f7f\">community.py</span></a><span style=\"color: #7f7f7f; text-decoration-color: #7f7f7f\">:</span><a href=\"file://c:\\Users\\domin\\Anaconda3\\envs\\gsmm-3\\lib\\site-packages\\micom\\community.py#485\" target=\"_blank\"><span style=\"color: #7f7f7f; text-decoration-color: #7f7f7f\">485</span></a>\n",
       "</pre>\n"
      ],
      "text/plain": [
       "\u001b[2;36m[12:06:15]\u001b[0m\u001b[2;36m \u001b[0m\u001b[31mWARNING \u001b[0m `optimize_all` is deprecated and will be removed soon :\u001b[1m(\u001b[0m                       \u001b]8;id=364200;file://c:\\Users\\domin\\Anaconda3\\envs\\gsmm-3\\lib\\site-packages\\micom\\community.py\u001b\\\u001b[2mcommunity.py\u001b[0m\u001b]8;;\u001b\\\u001b[2m:\u001b[0m\u001b]8;id=909237;file://c:\\Users\\domin\\Anaconda3\\envs\\gsmm-3\\lib\\site-packages\\micom\\community.py#485\u001b\\\u001b[2m485\u001b[0m\u001b]8;;\u001b\\\n"
      ]
     },
     "metadata": {},
     "output_type": "display_data"
    },
    {
     "data": {
      "text/html": [
       "<pre style=\"white-space:pre;overflow-x:auto;line-height:normal;font-family:Menlo,'DejaVu Sans Mono',consolas,'Courier New',monospace\"><span style=\"color: #7fbfbf; text-decoration-color: #7fbfbf\">           </span><span style=\"color: #800000; text-decoration-color: #800000\">WARNING </span> `optimize_single` is deprecated and will be removed soon :<span style=\"font-weight: bold\">(</span>                    <a href=\"file://c:\\Users\\domin\\Anaconda3\\envs\\gsmm-3\\lib\\site-packages\\micom\\community.py\" target=\"_blank\"><span style=\"color: #7f7f7f; text-decoration-color: #7f7f7f\">community.py</span></a><span style=\"color: #7f7f7f; text-decoration-color: #7f7f7f\">:</span><a href=\"file://c:\\Users\\domin\\Anaconda3\\envs\\gsmm-3\\lib\\site-packages\\micom\\community.py#446\" target=\"_blank\"><span style=\"color: #7f7f7f; text-decoration-color: #7f7f7f\">446</span></a>\n",
       "</pre>\n"
      ],
      "text/plain": [
       "\u001b[2;36m          \u001b[0m\u001b[2;36m \u001b[0m\u001b[31mWARNING \u001b[0m `optimize_single` is deprecated and will be removed soon :\u001b[1m(\u001b[0m                    \u001b]8;id=94828;file://c:\\Users\\domin\\Anaconda3\\envs\\gsmm-3\\lib\\site-packages\\micom\\community.py\u001b\\\u001b[2mcommunity.py\u001b[0m\u001b]8;;\u001b\\\u001b[2m:\u001b[0m\u001b]8;id=780518;file://c:\\Users\\domin\\Anaconda3\\envs\\gsmm-3\\lib\\site-packages\\micom\\community.py#446\u001b\\\u001b[2m446\u001b[0m\u001b]8;;\u001b\\\n"
      ]
     },
     "metadata": {},
     "output_type": "display_data"
    },
    {
     "data": {
      "text/html": [
       "<pre style=\"white-space:pre;overflow-x:auto;line-height:normal;font-family:Menlo,'DejaVu Sans Mono',consolas,'Courier New',monospace\"><span style=\"color: #7fbfbf; text-decoration-color: #7fbfbf\">[12:06:16] </span><span style=\"color: #800000; text-decoration-color: #800000\">WARNING </span> `optimize_single` is deprecated and will be removed soon :<span style=\"font-weight: bold\">(</span>                    <a href=\"file://c:\\Users\\domin\\Anaconda3\\envs\\gsmm-3\\lib\\site-packages\\micom\\community.py\" target=\"_blank\"><span style=\"color: #7f7f7f; text-decoration-color: #7f7f7f\">community.py</span></a><span style=\"color: #7f7f7f; text-decoration-color: #7f7f7f\">:</span><a href=\"file://c:\\Users\\domin\\Anaconda3\\envs\\gsmm-3\\lib\\site-packages\\micom\\community.py#446\" target=\"_blank\"><span style=\"color: #7f7f7f; text-decoration-color: #7f7f7f\">446</span></a>\n",
       "</pre>\n"
      ],
      "text/plain": [
       "\u001b[2;36m[12:06:16]\u001b[0m\u001b[2;36m \u001b[0m\u001b[31mWARNING \u001b[0m `optimize_single` is deprecated and will be removed soon :\u001b[1m(\u001b[0m                    \u001b]8;id=210600;file://c:\\Users\\domin\\Anaconda3\\envs\\gsmm-3\\lib\\site-packages\\micom\\community.py\u001b\\\u001b[2mcommunity.py\u001b[0m\u001b]8;;\u001b\\\u001b[2m:\u001b[0m\u001b]8;id=612704;file://c:\\Users\\domin\\Anaconda3\\envs\\gsmm-3\\lib\\site-packages\\micom\\community.py#446\u001b\\\u001b[2m446\u001b[0m\u001b]8;;\u001b\\\n"
      ]
     },
     "metadata": {},
     "output_type": "display_data"
    },
    {
     "name": "stdout",
     "output_type": "stream",
     "text": [
      "Community Theoretical Maximum Yield of TYROSOL:  nan\n",
      "Community Theoretical Maximum Yield of SALIDROSIDE:  nan\n",
      "(0.6545793256855457, 1000.0)\n",
      "AG TMY:  5.749230769230861\n",
      "GD TMY:  8.935769230769221\n"
     ]
    }
   ],
   "source": [
    "# Modify the individual case testing code for a quick answer\n",
    "from utils import set_bound_modifications, runcases, runcases_community\n",
    "\n",
    "AG_tgt  = \"HPAA_ADH\"\n",
    "GD_tgt  = \"SALIDROSIDE_BIOSYNTHESIS\"\n",
    "\n",
    "com_TYR_tgt = \"HPAA_ADH__AG_uc\"\n",
    "com_SAL_tgt = \"SALIDROSIDE_BIOSYNTHESIS__GD_uc\"\n",
    "\n",
    "# AG_gr = [] # Growth Rate\n",
    "# GD_gr = [] # Growth Rate\n",
    "\n",
    "AG_tmy = [] # Theoretical Max Yield\n",
    "GD_tmy = [] # Theoretical Max Yield\n",
    "\n",
    "com_tmy_tyrosol = []\n",
    "com_tmy_salidroside = []\n",
    "\n",
    "# Cases consist of simple csv files of the rxn bounds to modify: rxn,lb,ub\n",
    "_, com_tmy_tyrosol = runcases_community(com, \"../../data/com_cases\", com_TYR_tgt,1)\n",
    "_, com_tmy_salidroside = runcases_community(com, \"../../data/com_cases\", com_SAL_tgt,1)\n",
    "\n",
    "print(\"Community Theoretical Maximum Yield of TYROSOL: \", round(com_tmy_tyrosol[0],2))\n",
    "print(\"Community Theoretical Maximum Yield of SALIDROSIDE: \", round(com_tmy_salidroside[0],2))\n",
    "\n",
    "with AG as m:\n",
    "    m.reactions.BIOMASS_Ec_iJO1366_core_53p95M.lower_bound = m.slim_optimize() * 0.8\n",
    "    print(m.reactions.BIOMASS_Ec_iJO1366_core_53p95M.bounds)\n",
    "    m.objective = m.reactions.EX_ac_e\n",
    "    # m.objective = AG_tgt\n",
    "    temp = m.optimize()\n",
    "    print(\"AG TMY: \", temp.objective_value)\n",
    "    AG_tmy = round(temp.objective_value,2)\n",
    "\n",
    "\n",
    "with GD as m:\n",
    "    m.reactions.EX_Tyrosol_e.lower_bound = -20\n",
    "    m.objective = GD_tgt\n",
    "    temp = m.optimize()\n",
    "    print(\"GD TMY: \", temp.objective_value)\n",
    "    GD_tmy = round(temp.objective_value,2)"
   ]
  },
  {
   "cell_type": "markdown",
   "metadata": {},
   "source": [
    "The computed theoretical maximum yield for the community model is signifigantly larger for both Tyrosol and Salidroside. Let's visualise some of the internal exchange fluxes in these scenarios. "
   ]
  },
  {
   "cell_type": "code",
   "execution_count": 197,
   "metadata": {},
   "outputs": [
    {
     "name": "stdout",
     "output_type": "stream",
     "text": [
      "21.208888888888914\n",
      "6.499498207885324\n"
     ]
    }
   ],
   "source": [
    "# AG TMY internal exchange fluxes\n",
    "\n",
    "# Visualise Internal Exchange Fluxes for MTY scenarios\n",
    "pfba_solution = []\n",
    "with com as m:\n",
    "    m.objective = com_TYR_tgt\n",
    "    # sol1 = m.slim_optimize()\n",
    "    pfba_solution.append(cobra.flux_analysis.pfba(m))\n",
    "    m.objective = com_SAL_tgt\n",
    "    pfba_solution.append(cobra.flux_analysis.pfba(m))\n",
    "    # sol1 = m.summary()\n",
    "    \n",
    "print(pfba_solution[0].fluxes[\"HPAA_ADH__AG_uc\"])\n",
    "print(pfba_solution[1].fluxes[\"EX_Salidroside_m\"])\n",
    "\n",
    "# com.reactions.EX_Salidroside_m\n",
    "# utils.getInternalExchangeFluxes(com, pfba_solution[0])"
   ]
  },
  {
   "cell_type": "code",
   "execution_count": 206,
   "metadata": {},
   "outputs": [
    {
     "data": {
      "image/png": "[encoded data removed]",
      "text/plain": [
       "<Figure size 1440x720 with 1 Axes>"
      ]
     },
     "metadata": {
      "needs_background": "light"
     },
     "output_type": "display_data"
    }
   ],
   "source": [
    "\n",
    "sol = pfba_solution[0]\n",
    "\n",
    "def getInternalExchangeFluxes2(com, sol):\n",
    "    '''\n",
    "    Another version of this function to account for the format returned by \n",
    "    cobra.flux_analysis_pfba\n",
    "\n",
    "    The reactions are not grouped into a dataframe by metabolite which means \n",
    "    it need to be processed before we can use the graphig function.\n",
    "    '''\n",
    "    import pandas as pd\n",
    "    int_ex = [i.id for i in com.internal_exchanges]\n",
    "    int_ex = [i[:-7] for i in int_ex]\n",
    "    int_ex\n",
    "\n",
    "    # for i in sol.fluxes.index:\n",
    "    #     isinternalExchangeReaction = i[:-7] in int_ex\n",
    "    #     if isinternalExchangeReaction:\n",
    "    #         print(i, sol.fluxes[i])\n",
    "\n",
    "    # for each intEx flux, find the corresponding fluxes in  sols.fluxes, one will have an \"__AG_uc\" suffix etc\n",
    "\n",
    "    flux_container = []\n",
    "    for rxn in int_ex:\n",
    "        foo = []\n",
    "        toadd_ag = 0\n",
    "        toadd_gd = 0\n",
    "        # print(\"Testing: \", rxn)\n",
    "        c = 0\n",
    "        for flucs in sol.fluxes.index:\n",
    "            if c != 2:\n",
    "                if flucs[:-7] == rxn:\n",
    "\n",
    "                    foo.append(flucs) # debug\n",
    "\n",
    "                    if flucs[-5:] == \"AG_uc\":\n",
    "                        toadd_ag = sol.fluxes[flucs]\n",
    "                        # print(toadd_ag)\n",
    "                        c +=1\n",
    "\n",
    "                    elif flucs[-5:] == \"GD_uc\":\n",
    "                        toadd_gd = sol.fluxes[flucs]\n",
    "                        # print(toadd_gd)\n",
    "                        c +=1\n",
    "\n",
    "            if c == 2:\n",
    "                if toadd_ag != 0 or toadd_gd != 0:\n",
    "                    tab = {\n",
    "                        \"rxn_id\": rxn,\n",
    "                        \"AG_uc\": round(toadd_ag,2),\n",
    "                        \"GD_uc\": round(toadd_gd,2),\n",
    "                        \"medium\": 0\n",
    "                    }\n",
    "                    # print(\"appending \", tab)\n",
    "                    flux_container.append(tab)\n",
    "                break\n",
    "            elif c == 1 and \"Salidro\" in rxn:\n",
    "                    tab = {\n",
    "                        \"rxn_id\": rxn,\n",
    "                        \"AG_uc\": 0,\n",
    "                        \"GD_uc\": round(toadd_gd,2),\n",
    "                        \"medium\": 0\n",
    "                    }\n",
    "                    # print(\"appending \", tab)\n",
    "                    flux_container.append(tab)\n",
    "\n",
    "        \n",
    "    x = pd.DataFrame(flux_container)\n",
    "    x.set_index(\"rxn_id\",inplace=True)\n",
    "    return x.drop_duplicates()\n",
    "\n",
    "\n",
    "temp = getInternalExchangeFluxes2(com, sol)\n",
    "temp\n",
    "plotIntExchFlux(com, temp, _title = \"Internal Exchange Flux Values - Theoretical Max Yield of Tyrosol\",save_output=True)\n",
    "   "
   ]
  },
  {
   "cell_type": "code",
   "execution_count": 207,
   "metadata": {},
   "outputs": [
    {
     "data": {
      "image/png": "[encoded data removed]",
      "text/plain": [
       "<Figure size 1440x720 with 1 Axes>"
      ]
     },
     "metadata": {
      "needs_background": "light"
     },
     "output_type": "display_data"
    }
   ],
   "source": [
    "temp = getInternalExchangeFluxes2(com, pfba_solution[1])\n",
    "temp\n",
    "plotIntExchFlux(com, temp, _title = \"Internal Exchange Flux Values - Theoretical Max Yield of Salidroside\", save_output=True)"
   ]
  },
  {
   "cell_type": "markdown",
   "metadata": {},
   "source": []
  },
  {
   "cell_type": "markdown",
   "metadata": {},
   "source": [
    "The next point of enquiry would be to ask what changes between the community and individual models with respect to exchange fluxes.\n",
    "\n",
    "For the individual model the exchange fluxes are determined directly by the medium representation.\n",
    "For community models the metabolites 'availible' to them depend on the metabolites excreted by the other strain..."
   ]
  }
 ],
 "metadata": {
  "kernelspec": {
   "display_name": "Python 3.10.4 ('gsmm-3')",
   "language": "python",
   "name": "python3"
  },
  "language_info": {
   "codemirror_mode": {
    "name": "ipython",
    "version": 3
   },
   "file_extension": ".py",
   "mimetype": "text/x-python",
   "name": "python",
   "nbconvert_exporter": "python",
   "pygments_lexer": "ipython3",
   "version": "3.10.4"
  },
  "orig_nbformat": 4,
  "vscode": {
   "interpreter": {
    "hash": "e563dc09366b75055ee9928db1f4160e5b3c37b8da74c95d5acc436a5e537a75"
   }
  }
 },
 "nbformat": 4,
 "nbformat_minor": 2
}
