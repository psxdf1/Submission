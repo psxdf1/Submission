{
 "cells": [
  {
   "cell_type": "markdown",
   "metadata": {},
   "source": [
    "# Applying Growth Coupling In Community\n",
    "Exploring how the commuinty model can compensate for the knocked out reactions. "
   ]
  },
  {
   "cell_type": "code",
   "execution_count": 2,
   "metadata": {},
   "outputs": [
    {
     "name": "stdout",
     "output_type": "stream",
     "text": [
      "Set parameter Username\n",
      "Academic license - for non-commercial use only - expires 2023-08-10\n",
      "Read LP format model from file C:\\Users\\domin\\AppData\\Local\\Temp\\tmpd7qtx32z.lp\n",
      "Reading time = 0.14 seconds\n",
      ": 4042 rows, 11287 columns, 43241 nonzeros\n"
     ]
    }
   ],
   "source": [
    "import micom as mc\n",
    "import cobra.io\n",
    "com = mc.load_pickle(\"../../data/community.pickle\")\n",
    "GD = cobra.io.read_sbml_model(\"../../data/GD.xml\")\n",
    "# ijo = cobra.io.read_sbml_model(\"../../data/iJO1366.xml\")"
   ]
  },
  {
   "cell_type": "code",
   "execution_count": 3,
   "metadata": {},
   "outputs": [
    {
     "data": {
      "text/plain": [
       "{'EX_co2_m': 1000.0,\n",
       " 'EX_cobalt2_m': 1000.0,\n",
       " 'EX_glc__D_m': 10.0,\n",
       " 'EX_h_m': 1000.0,\n",
       " 'EX_h2o_m': 1000.0,\n",
       " 'EX_k_m': 1000.0,\n",
       " 'EX_cu2_m': 1000.0,\n",
       " 'EX_mg2_m': 1000.0,\n",
       " 'EX_mn2_m': 1000.0,\n",
       " 'EX_mobd_m': 1000.0,\n",
       " 'EX_na1_m': 1000.0,\n",
       " 'EX_nh4_m': 1000.0,\n",
       " 'EX_ca2_m': 1000.0,\n",
       " 'EX_cbl1_m': 0.01,\n",
       " 'EX_ni2_m': 1000.0,\n",
       " 'EX_o2_m': 1000.0,\n",
       " 'EX_cl_m': 1000.0,\n",
       " 'EX_pi_m': 1000.0,\n",
       " 'EX_xyl__D_m': 10.0,\n",
       " 'EX_zn2_m': 1000.0,\n",
       " 'EX_sel_m': 1000.0,\n",
       " 'EX_slnt_m': 1000.0,\n",
       " 'EX_so4_m': 1000.0,\n",
       " 'EX_tungs_m': 1000.0,\n",
       " 'EX_fe2_m': 1000.0,\n",
       " 'EX_fe3_m': 1000.0}"
      ]
     },
     "execution_count": 3,
     "metadata": {},
     "output_type": "execute_result"
    }
   ],
   "source": [
    "com.medium\n",
    "# com.reactions.EX_"
   ]
  },
  {
   "cell_type": "code",
   "execution_count": 4,
   "metadata": {},
   "outputs": [
    {
     "name": "stdout",
     "output_type": "stream",
     "text": [
      "FBA (-1000.0, 1000.0)\n",
      "TALA (-1000.0, 1000.0)\n",
      "EDD (0.0, 1000.0)\n",
      "F6PA (-1000.0, 1000.0)\n",
      "PPM2 (-1000.0, 1000.0)\n",
      "AGM4PApp (0.0, 1000.0)\n",
      "INDOLEt2pp (0.0, 1000.0)\n",
      "AGM3PApp (0.0, 1000.0)\n"
     ]
    }
   ],
   "source": [
    "# Apply the growth couple strategy to the individual model\n",
    "strat = [\"TALA\",\"EDD\",\"FBA\",\"F6PA\",\"PPM2\",\"AGM4PApp\",\"INDOLEt2pp\",\"AGM3PApp\"]\n",
    "\n",
    "# Not mapped EDD PPM2 AGM4PApp\",\"INDOLEt2pp\",\"AGM3PApp\n",
    "\n",
    "sols = {}\n",
    "with GD:\n",
    "    # Allow presence of Tyrosol\n",
    "    GD.reactions.EX_Tyrosol_e.bounds = (-10,1000)    \n",
    "    for i in GD.reactions:\n",
    "        if i.id in strat:\n",
    "            print(i.id, i.bounds)\n",
    "            i.bounds = (0,0)\n",
    "    sols[\"GD\"] = GD.optimize()\n",
    "    \n",
    "\n"
   ]
  },
  {
   "cell_type": "code",
   "execution_count": 5,
   "metadata": {},
   "outputs": [],
   "source": [
    "# Identify exchanges carrying flux:\n",
    "x = sols[\"GD\"]\n",
    "# Get fluxes of exchanges\n",
    "x = x.to_frame()\n",
    "\n",
    "temp = [i.id for i in GD.exchanges]\n",
    "# df.loc[df[\"name\"].isin([\"Xavier\", \"Joaquin\"]), :])\n",
    "# x.loc[x[x.index].isin(temp),:]\n",
    "\n",
    "\n",
    "# This is the active excahnges for the GD model \n",
    "def get_active_Exchanges(m,sol):\n",
    "    # Takes a model object and a corresponding solution object and returns a dictionary of the active exchanges in the solution.\n",
    "    try:\n",
    "        sol = sol.to_frame()\n",
    "    except:\n",
    "        pass\n",
    "    ans = {}\n",
    "    for i in [j.id for j in m.exchanges]:\n",
    "        if i in sol.index and sol.loc[i].fluxes !=0:\n",
    "            ans[i] = sol.loc[i].fluxes\n",
    "    return ans\n",
    "\n",
    "\n",
    "GD_ind_exFluxes = get_active_Exchanges(GD, x)\n"
   ]
  },
  {
   "cell_type": "code",
   "execution_count": 6,
   "metadata": {},
   "outputs": [
    {
     "data": {
      "text/plain": [
       "{'2ddg6p_c',\n",
       " '2dr1p_c',\n",
       " '2dr5p_c',\n",
       " '6pgc_c',\n",
       " 'LalaDgluMdapDala_p',\n",
       " 'LalaDgluMdap_p',\n",
       " 'anhgm3p_p',\n",
       " 'anhgm4p_p',\n",
       " 'anhgm_p',\n",
       " 'dha_c',\n",
       " 'dhap_c',\n",
       " 'e4p_c',\n",
       " 'f6p_c',\n",
       " 'fdp_c',\n",
       " 'g3p_c',\n",
       " 'h2o_c',\n",
       " 'h2o_p',\n",
       " 'h_c',\n",
       " 'h_p',\n",
       " 'indole_c',\n",
       " 'indole_p',\n",
       " 's7p_c'}"
      ]
     },
     "execution_count": 6,
     "metadata": {},
     "output_type": "execute_result"
    }
   ],
   "source": [
    "# Can we identify a list of metabolites that have a direct relationship with those reactions knocked out?\n",
    "tgt_rxns = [i for i in GD.reactions if i.id in strat]\n",
    "\n",
    "metabolites_of_interest = set()\n",
    "for i in tgt_rxns:\n",
    "    for j in i.metabolites:\n",
    "        # print(j.id)\n",
    "        metabolites_of_interest.add(j.id) # change to j if want actual reactions, the id should be fine.\n",
    "\n",
    "metabolites_of_interest # we can take this list and use it to identify direct cross feeding circumvention of the blocked reactions.\n",
    "\n",
    "\n"
   ]
  },
  {
   "cell_type": "code",
   "execution_count": 7,
   "metadata": {},
   "outputs": [],
   "source": [
    "\"\"\"\n",
    "Some observations, the flux output of salidroside is equal to the flux input of tyrosol, but is not at the bound imposed by the medium availiblity, suggesting that there\n",
    "is another limiting factor - likely to be UDPGlucose \n",
    "\"\"\"\n",
    "x = sols[\"GD\"]\n",
    "# x.fluxes\n"
   ]
  },
  {
   "cell_type": "markdown",
   "metadata": {},
   "source": [
    "## Community"
   ]
  },
  {
   "cell_type": "code",
   "execution_count": 8,
   "metadata": {},
   "outputs": [],
   "source": [
    "# Baseline community model\n",
    "sol = com.cooperative_tradeoff(fraction=0.95,fluxes=True, pfba=True) "
   ]
  },
  {
   "cell_type": "code",
   "execution_count": 9,
   "metadata": {},
   "outputs": [
    {
     "name": "stdout",
     "output_type": "stream",
     "text": [
      "FBA__GD_uc (-1000.0, 1000.0)\n",
      "TALA__GD_uc (-1000.0, 1000.0)\n",
      "EDD__GD_uc (0.0, 1000.0)\n",
      "F6PA__GD_uc (-1000.0, 1000.0)\n",
      "PPM2__GD_uc (-1000.0, 1000.0)\n",
      "AGM4PApp__GD_uc (0.0, 1000.0)\n",
      "INDOLEt2pp__GD_uc (0.0, 1000.0)\n",
      "AGM3PApp__GD_uc (0.0, 1000.0)\n"
     ]
    }
   ],
   "source": [
    "# Apply the coupling reaction constraints to the community\n",
    "strat = [\"TALA\",\"EDD\",\"FBA\",\"F6PA\",\"PPM2\",\"AGM4PApp\",\"INDOLEt2pp\",\"AGM3PApp\"] # Original \n",
    "strat = [i+\"__GD_uc\" for i in strat]\n",
    "\n",
    "# com.reactions.EX_Tyrosol_m.bounds\n",
    "with com:\n",
    "    for i in com.reactions:\n",
    "        if i.id in strat:\n",
    "            print(i.id, i.bounds)\n",
    "            i.bounds = (0,0)\n",
    "    \n",
    "    # sols.append(com.cooperative_tradeoff(fraction=0.95,pfba=True, fluxes=True))\n",
    "    sols[\"com_GC\"] = com.cooperative_tradeoff(fraction=0.95,pfba=True, fluxes=True)\n",
    "        "
   ]
  },
  {
   "cell_type": "code",
   "execution_count": 10,
   "metadata": {},
   "outputs": [
    {
     "data": {
      "text/plain": [
       "compartment\n",
       "AG_uc     NaN\n",
       "GD_uc     0.0\n",
       "medium    NaN\n",
       "Name: SALIDROSIDE_BIOSYNTHESIS, dtype: float64"
      ]
     },
     "execution_count": 10,
     "metadata": {},
     "output_type": "execute_result"
    }
   ],
   "source": [
    "# Show that salidroside is not being produced in communtiy.\n",
    "x = sols[\"com_GC\"]\n",
    "x.fluxes.T.loc[\"SALIDROSIDE_BIOSYNTHESIS\"]"
   ]
  },
  {
   "cell_type": "code",
   "execution_count": 11,
   "metadata": {},
   "outputs": [
    {
     "name": "stdout",
     "output_type": "stream",
     "text": [
      "{'EX_h2o_e__GD_uc', 'EX_dha_e__GD_uc', 'EX_h_e__GD_uc'}\n"
     ]
    }
   ],
   "source": [
    "# Heuristic search for finding exchange reactions in the community model that will directly circumvent the imposed growth coupling strategy.\n",
    "from utils import getInternalExchangeFluxes\n",
    "# Find the internal exchanges that carry flux.\n",
    "comintex = getInternalExchangeFluxes(com, x)\n",
    "comintex.GD_uc\n",
    "# For each reaction therein identify those containing metabolites from the metabolites of interest. \n",
    "candidates = []\n",
    "for intex in [i+\"__GD_uc\" for i in comintex.index]:\n",
    "    rxn = [i for i in com.reactions if i.id == intex][0]\n",
    "    # print(rxn.id, rxn.metabolites)\n",
    "    # print([i.id for i in rxn.metabolites]) # Remove the compartment suffix to allow matching\n",
    "    for k in metabolites_of_interest:\n",
    "        if k[:-1] in [i.id[:-1] for i in rxn.metabolites]:\n",
    "            candidates.append(rxn.id)\n",
    "\n",
    "print(set(candidates))\n",
    "\n",
    "# So dha or dehydroxyacetate is a clear culprit for circumventing the blocking of F6PA which catalyses the conversion of dha into fructose 6 phosphate under the F6PA reaction"
   ]
  },
  {
   "cell_type": "code",
   "execution_count": 12,
   "metadata": {},
   "outputs": [
    {
     "name": "stdout",
     "output_type": "stream",
     "text": [
      "42\n",
      "23\n",
      "Community Internal Exchange Reactions that are not in individual solution \n",
      "EX_akg_e\n",
      "EX_dha_e\n",
      "EX_ser__L_e\n",
      "EX_glu__L_e\n",
      "EX_asp__L_e\n",
      "EX_gly_e\n",
      "EX_leu__L_e\n",
      "EX_val__L_e\n",
      "EX_arg__L_e\n",
      "EX_ile__L_e\n",
      "EX_thr__L_e\n",
      "EX_hxan_e\n",
      "EX_asn__L_e\n",
      "EX_pro__L_e\n",
      "EX_ade_e\n",
      "EX_his__L_e\n",
      "EX_thymd_e\n",
      "EX_xyl__D_e\n",
      "EX_trp__L_e\n",
      "EX_phe__L_e\n",
      "EX_glcn_e\n"
     ]
    }
   ],
   "source": [
    "# Next evaluate \n",
    "#  a) those reactions that are present in the community solution and not the single culture\n",
    "#  and b) the change in rections that are present across both community and individually.\n",
    "\n",
    "# comintex.GD_uc.index\n",
    "\n",
    "print(len(comintex.AG_uc.index))\n",
    "print(len(GD_ind_exFluxes.keys()))\n",
    "\n",
    "print(\"Community Internal Exchange Reactions that are not in individual solution \")\n",
    "for i in comintex.AG_uc.index:\n",
    "    if i not in GD_ind_exFluxes:\n",
    "        print(i)\n",
    "\n",
    "\n"
   ]
  },
  {
   "cell_type": "code",
   "execution_count": 13,
   "metadata": {},
   "outputs": [
    {
     "data": {
      "text/html": [
       "<div>\n",
       "<style scoped>\n",
       "    .dataframe tbody tr th:only-of-type {\n",
       "        vertical-align: middle;\n",
       "    }\n",
       "\n",
       "    .dataframe tbody tr th {\n",
       "        vertical-align: top;\n",
       "    }\n",
       "\n",
       "    .dataframe thead th {\n",
       "        text-align: right;\n",
       "    }\n",
       "</style>\n",
       "<table border=\"1\" class=\"dataframe\">\n",
       "  <thead>\n",
       "    <tr style=\"text-align: right;\">\n",
       "      <th>compartment</th>\n",
       "      <th>AG_uc</th>\n",
       "      <th>GD_uc</th>\n",
       "    </tr>\n",
       "    <tr>\n",
       "      <th>reaction</th>\n",
       "      <th></th>\n",
       "      <th></th>\n",
       "    </tr>\n",
       "  </thead>\n",
       "  <tbody>\n",
       "    <tr>\n",
       "      <th>EX_o2_e</th>\n",
       "      <td>-35.405848</td>\n",
       "      <td>-41.398678</td>\n",
       "    </tr>\n",
       "    <tr>\n",
       "      <th>EX_glc__D_e</th>\n",
       "      <td>0.000000</td>\n",
       "      <td>-19.989678</td>\n",
       "    </tr>\n",
       "    <tr>\n",
       "      <th>EX_akg_e</th>\n",
       "      <td>8.183884</td>\n",
       "      <td>-8.183884</td>\n",
       "    </tr>\n",
       "    <tr>\n",
       "      <th>EX_dha_e</th>\n",
       "      <td>5.095079</td>\n",
       "      <td>-5.095079</td>\n",
       "    </tr>\n",
       "    <tr>\n",
       "      <th>EX_nh4_e</th>\n",
       "      <td>-31.321930</td>\n",
       "      <td>-4.476836</td>\n",
       "    </tr>\n",
       "  </tbody>\n",
       "</table>\n",
       "</div>"
      ],
      "text/plain": [
       "compartment      AG_uc      GD_uc\n",
       "reaction                         \n",
       "EX_o2_e     -35.405848 -41.398678\n",
       "EX_glc__D_e   0.000000 -19.989678\n",
       "EX_akg_e      8.183884  -8.183884\n",
       "EX_dha_e      5.095079  -5.095079\n",
       "EX_nh4_e    -31.321930  -4.476836"
      ]
     },
     "execution_count": 13,
     "metadata": {},
     "output_type": "execute_result"
    }
   ],
   "source": [
    "comintex.head()"
   ]
  },
  {
   "cell_type": "code",
   "execution_count": 16,
   "metadata": {},
   "outputs": [
    {
     "data": {
      "image/png": "[encoded data removed]",
      "text/plain": [
       "<Figure size 1440x720 with 1 Axes>"
      ]
     },
     "metadata": {
      "needs_background": "light"
     },
     "output_type": "display_data"
    }
   ],
   "source": [
    "from utils import *\n",
    "from utilPlots import *\n",
    "\n",
    "plotIntExchFlux(com, comintex,_title = \"Internal Exchange Flux Values - Growth Couple Compensation\", save_output=True)\n"
   ]
  }
 ],
 "metadata": {
  "kernelspec": {
   "display_name": "Python 3.10.4 ('gsmm-3')",
   "language": "python",
   "name": "python3"
  },
  "language_info": {
   "codemirror_mode": {
    "name": "ipython",
    "version": 3
   },
   "file_extension": ".py",
   "mimetype": "text/x-python",
   "name": "python",
   "nbconvert_exporter": "python",
   "pygments_lexer": "ipython3",
   "version": "3.10.4"
  },
  "orig_nbformat": 4,
  "vscode": {
   "interpreter": {
    "hash": "e563dc09366b75055ee9928db1f4160e5b3c37b8da74c95d5acc436a5e537a75"
   }
  }
 },
 "nbformat": 4,
 "nbformat_minor": 2
}
