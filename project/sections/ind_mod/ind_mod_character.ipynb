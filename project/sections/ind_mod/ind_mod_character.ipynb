{
 "cells": [
  {
   "cell_type": "markdown",
   "metadata": {},
   "source": [
    "# Characterising Individual Models\n",
    "\n",
    "Growth Rates and Yield"
   ]
  },
  {
   "cell_type": "code",
   "execution_count": 2,
   "metadata": {},
   "outputs": [
    {
     "name": "stdout",
     "output_type": "stream",
     "text": [
      "Set parameter Username\n",
      "Academic license - for non-commercial use only - expires 2023-08-10\n"
     ]
    }
   ],
   "source": [
    "import cobra.io\n",
    "\n",
    "models = []\n",
    "model_paths = [\"../../data/GD.xml\", \"../../data/AG.xml\", \"../../data/iJO1366.xml\", \"../../data/iHK1487.xml\"]\n",
    "\n",
    "for i in range(len(model_paths)):\n",
    "    models.append(cobra.io.read_sbml_model(model_paths[i]))\n",
    "\n",
    "# vars for Convienince\n",
    "GD = models[0]\n",
    "AG = models[1]\n",
    "iJO = models[2]\n",
    "iHK = models[3]"
   ]
  },
  {
   "cell_type": "markdown",
   "metadata": {},
   "source": [
    "## Basic Model Statistics\n",
    "Generate some basic model statistics for display in paper"
   ]
  },
  {
   "cell_type": "code",
   "execution_count": 27,
   "metadata": {},
   "outputs": [],
   "source": [
    "import csv\n",
    "\n",
    "with open('basic_model_properties.csv', 'w') as fil:\n",
    "    # create the csv writer\n",
    "    writer = csv.writer(fil)\n",
    "    title = [\"ID\",\"Model ID\",\"Genes\",\"Rxns\",\"Metabolites\", \"Objective Function\"]\n",
    "    writer.writerow(title)\n",
    "    \n",
    "    for model in [AG,GD]:\n",
    "        x = [\n",
    "            \"NameHere\",\n",
    "            model.id,\n",
    "            len(model.genes),\n",
    "            len(model.reactions),\n",
    "            len(model.metabolites),\n",
    "            [i.id for i in model.reactions if i.objective_coefficient != 0][0]\n",
    "        ]\n",
    "        writer.writerow(x)\n",
    "    \n",
    "\n",
    "\n",
    "# AG.name"
   ]
  },
  {
   "cell_type": "code",
   "execution_count": 26,
   "metadata": {},
   "outputs": [
    {
     "data": {
      "text/plain": [
       "['BIOMASS_Ec_iHK1487_core']"
      ]
     },
     "execution_count": 26,
     "metadata": {},
     "output_type": "execute_result"
    }
   ],
   "source": [
    "# AG.problem.Model.mro # come back to this for the comunity model\n"
   ]
  },
  {
   "cell_type": "markdown",
   "metadata": {},
   "source": [
    "## Cases - Checking Effect of Modifications."
   ]
  },
  {
   "cell_type": "code",
   "execution_count": null,
   "metadata": {},
   "outputs": [],
   "source": [
    "# Eyeball the medium configurations for each of the models"
   ]
  },
  {
   "cell_type": "code",
   "execution_count": 40,
   "metadata": {},
   "outputs": [
    {
     "data": {
      "text/plain": [
       "<module 'utils' from 'C:\\\\Users\\\\domin\\\\Submission\\\\project\\\\utils\\\\utils.py'>"
      ]
     },
     "execution_count": 40,
     "metadata": {},
     "output_type": "execute_result"
    }
   ],
   "source": [
    "import importlib\n",
    "import utils\n",
    "importlib.reload(utils)"
   ]
  },
  {
   "cell_type": "code",
   "execution_count": 53,
   "metadata": {},
   "outputs": [],
   "source": [
    "# Each indicies position corresponds to a case number.\n",
    "# CASES\n",
    "# 0 - WT with respect to Auxotrophy, can synthesise targeted aa\n",
    "# 1 - MT with respect to Auxotrophy, cannot synthesise targeted aa , medium supplemented.\n",
    "# 2 - MT with respect to Auxotrophy, medium not supplemented.\n",
    "\n",
    "from utils import set_bound_modifications,runcases\n",
    "\n",
    "AG_tgt  = \"HPAA_ADH\"\n",
    "GD_tgt  = \"SALIDROSIDE_BIOSYNTHESIS\"\n",
    "\n",
    "AG_gr = [] # Growth Rate\n",
    "GD_gr = [] # Growth Rate\n",
    "\n",
    "AG_tmy = [] # Theoretical Max Yield\n",
    "GD_tmy = [] # Theoretical Max Yield\n",
    "\n",
    "AG_gr, AG_tmy = runcases(AG, \"../../data/ind_mod_cases/AG\", AG_tgt)\n",
    "GD_gr, GD_tmy = runcases(GD, \"../../data/ind_mod_cases/GD\", GD_tgt)\n",
    "\n"
   ]
  },
  {
   "cell_type": "code",
   "execution_count": 49,
   "metadata": {},
   "outputs": [
    {
     "data": {
      "text/html": [
       "\n",
       "        <table>\n",
       "            <tr>\n",
       "                <td><strong>Reaction identifier</strong></td><td>EX_Tyrosol_e</td>\n",
       "            </tr><tr>\n",
       "                <td><strong>Name</strong></td><td>Tyrosol Exchange</td>\n",
       "            </tr><tr>\n",
       "                <td><strong>Memory address</strong></td>\n",
       "                <td>0x01f93c4f15d0</td>\n",
       "            </tr><tr>\n",
       "                <td><strong>Stoichiometry</strong></td>\n",
       "                <td>\n",
       "                    <p style='text-align:right'>Tyrosol_e --></p>\n",
       "                    <p style='text-align:right'>4-hydroxyphenylethanol (4-Tyrosol) --></p>\n",
       "                </td>\n",
       "            </tr><tr>\n",
       "                <td><strong>GPR</strong></td><td></td>\n",
       "            </tr><tr>\n",
       "                <td><strong>Lower bound</strong></td><td>0.0</td>\n",
       "            </tr><tr>\n",
       "                <td><strong>Upper bound</strong></td><td>1000.0</td>\n",
       "            </tr>\n",
       "        </table>\n",
       "        "
      ],
      "text/plain": [
       "<Reaction EX_Tyrosol_e at 0x1f93c4f15d0>"
      ]
     },
     "execution_count": 49,
     "metadata": {},
     "output_type": "execute_result"
    }
   ],
   "source": []
  }
 ],
 "metadata": {
  "kernelspec": {
   "display_name": "Python 3.10.4 ('gsmm-3')",
   "language": "python",
   "name": "python3"
  },
  "language_info": {
   "codemirror_mode": {
    "name": "ipython",
    "version": 3
   },
   "file_extension": ".py",
   "mimetype": "text/x-python",
   "name": "python",
   "nbconvert_exporter": "python",
   "pygments_lexer": "ipython3",
   "version": "3.10.4"
  },
  "orig_nbformat": 4,
  "vscode": {
   "interpreter": {
    "hash": "e563dc09366b75055ee9928db1f4160e5b3c37b8da74c95d5acc436a5e537a75"
   }
  }
 },
 "nbformat": 4,
 "nbformat_minor": 2
}
